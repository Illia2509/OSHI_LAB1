{
  "nbformat": 4,
  "nbformat_minor": 0,
  "metadata": {
    "colab": {
      "provenance": []
    },
    "kernelspec": {
      "name": "python3",
      "display_name": "Python 3"
    },
    "language_info": {
      "name": "python"
    }
  },
  "cells": [
    {
      "cell_type": "markdown",
      "source": [
        "**Оцінювання даної роботи буде ураховувати якість Вашого коду та текстових відповідей. При наявності ЛИШЕ коду , робота оцінюватися НЕ БУДЕ.**  \n",
        "\n",
        "**Оформлення текстових відповідей повинно проводитися в текстових комірках ноутбука з використанням синтаксису [LaTeX](https://en.wikibooks.org/wiki/LaTeX/Basics) для оформлення тексту та формул.**\n",
        "\n",
        "**Роботи ідентифіковані як ІДЕНТИЧНІ одразу отримують 0 балів.**\n",
        "\n",
        "**При реалізації завдань потрібно використовувати методи з бібліотеки numpy та pandas.**\n",
        "\n",
        "**Рішення з циклами будуть оцінені в 0 балів.**"
      ],
      "metadata": {
        "id": "fQcvdlwdimQb"
      }
    },
    {
      "cell_type": "markdown",
      "source": [],
      "metadata": {
        "id": "uS7Evmdi6UCT"
      }
    },
    {
      "cell_type": "markdown",
      "source": [
        "# I. NumPy."
      ],
      "metadata": {
        "id": "UfI7FZudfGwv"
      }
    },
    {
      "cell_type": "markdown",
      "source": [],
      "metadata": {
        "id": "HGSh8MRP5Yz9"
      }
    },
    {
      "cell_type": "markdown",
      "source": [
        "0. Імпортувати numpy загальноприйнятим способом.\n",
        "\n",
        "---\n",
        "\n"
      ],
      "metadata": {
        "id": "XmA3PWg8fJxn"
      }
    },
    {
      "cell_type": "code",
      "execution_count": 2,
      "metadata": {
        "id": "JUli5tR8eTXG"
      },
      "outputs": [],
      "source": [
        "import numpy as np"
      ]
    },
    {
      "cell_type": "markdown",
      "source": [
        "1. Визначити список з оцінками студента(ки) за семестр. Використовуючи його, створити одновимірний масив numpy."
      ],
      "metadata": {
        "id": "fppWPwoFjTrl"
      }
    },
    {
      "cell_type": "code",
      "source": [
        "import numpy as np\n",
        "\n",
        "grades = [88, 51, 71, 65, 31, 100, 95, 89]\n",
        "\n",
        "grades_array = np.array(grades)\n",
        "\n",
        "print(grades_array)"
      ],
      "metadata": {
        "id": "cuvs9lNAjVoB",
        "colab": {
          "base_uri": "https://localhost:8080/"
        },
        "outputId": "c7d64f3f-d1cd-49cc-b1ab-737dee8ce1b1"
      },
      "execution_count": 1,
      "outputs": [
        {
          "output_type": "stream",
          "name": "stdout",
          "text": [
            "[ 88  51  71  65  31 100  95  89]\n"
          ]
        }
      ]
    },
    {
      "cell_type": "markdown",
      "source": [
        "2. Визначити список зі списками, де кожен рядок списку формально означає магазин, а кожна колонка - певний продукт (батон, яйця першої категорії, молоко та ковбаса), а елементами на пересічі є ціни на ці продукти відповідно. Використовуючи цей список, створити матрицю (двовимірний масив) numpy."
      ],
      "metadata": {
        "id": "OGeLtAwcjcMB"
      }
    },
    {
      "cell_type": "code",
      "source": [
        "import numpy as np\n",
        "\n",
        "prices = [\n",
        "    [15.5, 42.0, 32.8, 120.0],\n",
        "    [16.0, 40.5, 33.5, 125.0],\n",
        "    [14.8, 41.2, 31.9, 118.5]\n",
        "]\n",
        "\n",
        "prices_matrix = np.array(prices)\n",
        "\n",
        "print(prices_matrix)"
      ],
      "metadata": {
        "id": "zJ9kEAv5jcVo",
        "colab": {
          "base_uri": "https://localhost:8080/"
        },
        "outputId": "62c390c2-0270-4e8b-d836-7a6068b9cd78"
      },
      "execution_count": 3,
      "outputs": [
        {
          "output_type": "stream",
          "name": "stdout",
          "text": [
            "[[ 15.5  42.   32.8 120. ]\n",
            " [ 16.   40.5  33.5 125. ]\n",
            " [ 14.8  41.2  31.9 118.5]]\n"
          ]
        }
      ]
    },
    {
      "cell_type": "markdown",
      "source": [
        "3. Отримайте тип даних значень з масивів завдань 2 та 3. Виведіть їх на екран."
      ],
      "metadata": {
        "id": "wK7wrEw2jcix"
      }
    },
    {
      "cell_type": "markdown",
      "source": [],
      "metadata": {
        "id": "1TVd6OKad4Vu"
      }
    },
    {
      "cell_type": "code",
      "source": [
        "grades_dtype = grades_array.dtype\n",
        "prices_dtype = prices_matrix.dtype\n",
        "\n",
        "print(grades_dtype)\n",
        "print(prices_dtype)"
      ],
      "metadata": {
        "id": "uDBL1x6vjcq9",
        "colab": {
          "base_uri": "https://localhost:8080/"
        },
        "outputId": "a1281bde-5708-491d-9151-3210f79644f5"
      },
      "execution_count": 4,
      "outputs": [
        {
          "output_type": "stream",
          "name": "stdout",
          "text": [
            "int64\n",
            "float64\n"
          ]
        }
      ]
    },
    {
      "cell_type": "markdown",
      "source": [
        "4. Отримайте форми (кортеж з кількістю рядків та колонок) масивів завдань 2 та 3. Виведіть їх на екран."
      ],
      "metadata": {
        "id": "nNhAgsC3jcyp"
      }
    },
    {
      "cell_type": "code",
      "source": [
        "grades_shape = grades_array.shape\n",
        "prices_shape = prices_matrix.shape\n",
        "\n",
        "print(grades_shape)\n",
        "print(prices_shape)"
      ],
      "metadata": {
        "id": "HpEoz2NscQTD",
        "colab": {
          "base_uri": "https://localhost:8080/"
        },
        "outputId": "f20d054e-ecb2-4836-b376-eb04d80c8c44"
      },
      "execution_count": 5,
      "outputs": [
        {
          "output_type": "stream",
          "name": "stdout",
          "text": [
            "(8,)\n",
            "(3, 4)\n"
          ]
        }
      ]
    },
    {
      "cell_type": "markdown",
      "source": [],
      "metadata": {
        "id": "CUjWUva1cP_V"
      }
    },
    {
      "cell_type": "markdown",
      "source": [],
      "metadata": {
        "id": "dn6kid5QcPMx"
      }
    },
    {
      "cell_type": "code",
      "source": [],
      "metadata": {
        "id": "Fi5oXTI8jc4-"
      },
      "execution_count": null,
      "outputs": []
    },
    {
      "cell_type": "markdown",
      "source": [
        "5. Створіть одновимірний масив за допомогою спеціальної функції numpy, який би відображав динаміку стабільно зростаючого (з рівними проміжками) прибутку з продажів  за тиждень, де у перший день не було продажів, а в останній день тижня вдалося заробити 1000 грн 50 коп."
      ],
      "metadata": {
        "id": "bpY-N8QZjdW-"
      }
    },
    {
      "cell_type": "code",
      "source": [
        "import numpy as np\n",
        "\n",
        "sales_profit = np.linspace(0, 1000.50, 7)\n",
        "\n",
        "print(sales_profit)"
      ],
      "metadata": {
        "id": "r3LcjnUKjdeu",
        "colab": {
          "base_uri": "https://localhost:8080/"
        },
        "outputId": "94e0b00c-7085-481a-fe5b-afc52ac7899f"
      },
      "execution_count": 6,
      "outputs": [
        {
          "output_type": "stream",
          "name": "stdout",
          "text": [
            "[   0.    166.75  333.5   500.25  667.    833.75 1000.5 ]\n"
          ]
        }
      ]
    },
    {
      "cell_type": "markdown",
      "source": [
        "6. Створіть два масиви. Використовуючи їх, продемонструйте відмінність вертикального та горизонтального обʼєднання масивів."
      ],
      "metadata": {
        "id": "zQM0SY9jjebO"
      }
    },
    {
      "cell_type": "code",
      "source": [
        "import numpy as np\n",
        "\n",
        "array1 = np.array([1, 2, 3])\n",
        "array2 = np.array([4, 5, 6])\n",
        "\n",
        "h_stack = np.hstack((array1, array2))\n",
        "\n",
        "v_stack = np.vstack((array1, array2))\n",
        "\n",
        "print(h_stack)\n",
        "print(v_stack)"
      ],
      "metadata": {
        "id": "8uoi0_lxjeh-",
        "colab": {
          "base_uri": "https://localhost:8080/"
        },
        "outputId": "39d2007c-0d47-468b-8d80-4358ddfce08b"
      },
      "execution_count": 7,
      "outputs": [
        {
          "output_type": "stream",
          "name": "stdout",
          "text": [
            "[1 2 3 4 5 6]\n",
            "[[1 2 3]\n",
            " [4 5 6]]\n"
          ]
        }
      ]
    },
    {
      "cell_type": "markdown",
      "source": [
        "7. Визначити функцію, яка приймає на вході масив і транспонує його. Скористайтесь методом reshape. І не забудьте почати з docstrings."
      ],
      "metadata": {
        "id": "Fwh5D1pDm3t7"
      }
    },
    {
      "cell_type": "code",
      "source": [
        "import numpy as np\n",
        "\n",
        "def transpose_array(arr):\n",
        "    \"\"\"\n",
        "    The function takes a 2D array as input and transposes it.\n",
        "\n",
        "    Parameters:\n",
        "    arr (numpy.ndarray): The input array.\n",
        "\n",
        "    Returns:\n",
        "    numpy.ndarray: The transposed array.\n",
        "    \"\"\"\n",
        "    return arr.reshape(arr.shape[1], arr.shape[0])\n",
        "\n",
        "matrix = np.array([[1, 2, 3], [4, 5, 6]])\n",
        "transposed_matrix = transpose_array(matrix)\n",
        "\n",
        "print(matrix)\n",
        "print(transposed_matrix)"
      ],
      "metadata": {
        "id": "FSWZq0mkm31Z",
        "colab": {
          "base_uri": "https://localhost:8080/"
        },
        "outputId": "6a46968a-1dcc-4e6a-be3b-41eae1aeb6a4"
      },
      "execution_count": 8,
      "outputs": [
        {
          "output_type": "stream",
          "name": "stdout",
          "text": [
            "[[1 2 3]\n",
            " [4 5 6]]\n",
            "[[1 2]\n",
            " [3 4]\n",
            " [5 6]]\n"
          ]
        }
      ]
    },
    {
      "cell_type": "markdown",
      "source": [
        "8. Створіть два масиви. Використовучи ці масиви, продемонструйте 1) операцію по-елементного додавання, 2) операцію по-елементного віднімання, 3) множення масиву на число, 4) операцію по-елементного множення, і 5) матричного множення."
      ],
      "metadata": {
        "id": "Nnxk8vqYm379"
      }
    },
    {
      "cell_type": "code",
      "source": [
        "import numpy as np\n",
        "\n",
        "array1 = np.array([[1, 2], [3, 4]])\n",
        "array2 = np.array([[5, 6], [7, 8]])\n",
        "\n",
        "addition_result = array1 + array2\n",
        "subtraction_result = array1 - array2\n",
        "scalar_multiplication_result = array1 * 2\n",
        "elementwise_multiplication_result = array1 * array2\n",
        "matrix_multiplication_result = np.dot(array1, array2)\n",
        "\n",
        "print(\"Element-wise addition:\\n\", addition_result)\n",
        "print(\"Element-wise subtraction:\\n\", subtraction_result)\n",
        "print(\"Multiplication by scalar:\\n\", scalar_multiplication_result)\n",
        "print(\"Element-wise multiplication:\\n\", elementwise_multiplication_result)\n",
        "print(\"Matrix multiplication:\\n\", matrix_multiplication_result)"
      ],
      "metadata": {
        "id": "qO1rfvmVm4BI",
        "colab": {
          "base_uri": "https://localhost:8080/"
        },
        "outputId": "a9d3dea8-1e62-44c7-a012-66242cf0ce9f"
      },
      "execution_count": 9,
      "outputs": [
        {
          "output_type": "stream",
          "name": "stdout",
          "text": [
            "Element-wise addition:\n",
            " [[ 6  8]\n",
            " [10 12]]\n",
            "Element-wise subtraction:\n",
            " [[-4 -4]\n",
            " [-4 -4]]\n",
            "Multiplication by scalar:\n",
            " [[2 4]\n",
            " [6 8]]\n",
            "Element-wise multiplication:\n",
            " [[ 5 12]\n",
            " [21 32]]\n",
            "Matrix multiplication:\n",
            " [[19 22]\n",
            " [43 50]]\n"
          ]
        }
      ]
    },
    {
      "cell_type": "markdown",
      "source": [
        "9. Створіть двовимірний масив (матрицю) та розрахуйте: 1) мінімальне число, 2) максимальне число, 3) суму чисел, 4) мінімальні числа для кожного рядка, 5) максимальні числа для кожного стовпчика."
      ],
      "metadata": {
        "id": "7aGdszTGuMCC"
      }
    },
    {
      "cell_type": "code",
      "source": [
        "import numpy as np\n",
        "\n",
        "\n",
        "matrix = np.array([[3, 7, 2],\n",
        "                   [8, 1, 6],\n",
        "                   [4, 9, 5]])\n",
        "\n",
        "min_value = np.min(matrix)\n",
        "\n",
        "max_value = np.max(matrix)\n",
        "\n",
        "sum_values = np.sum(matrix)\n",
        "\n",
        "row_min_values = np.min(matrix, axis=1)\n",
        "\n",
        "column_max_values = np.max(matrix, axis=0)\n",
        "\n",
        "print(\"Minimum number:\", min_value)\n",
        "print(\"Maximum number:\", max_value)\n",
        "print(\"Sum of all numbers:\", sum_values)\n",
        "print(\"Minimum numbers for each row:\", row_min_values)\n",
        "print(\"Maximum numbers for each column:\", column_max_values)"
      ],
      "metadata": {
        "id": "RL_39YdauMKS",
        "colab": {
          "base_uri": "https://localhost:8080/"
        },
        "outputId": "fb900fff-55b7-4cdf-bd40-4e9133c7c8a6"
      },
      "execution_count": 1,
      "outputs": [
        {
          "output_type": "stream",
          "name": "stdout",
          "text": [
            "Minimum number: 1\n",
            "Maximum number: 9\n",
            "Sum of all numbers: 45\n",
            "Minimum numbers for each row: [2 1 4]\n",
            "Maximum numbers for each column: [8 9 6]\n"
          ]
        }
      ]
    },
    {
      "cell_type": "markdown",
      "source": [
        "10. Створіть матрицю , де деякі елементи повторюються. Знайдіть унікальні значення елементів цієї матриці та їхні частоти."
      ],
      "metadata": {
        "id": "c_hNdOpjHRFo"
      }
    },
    {
      "cell_type": "markdown",
      "source": [
        "# II. Importing. Creating DF"
      ],
      "metadata": {
        "id": "Usj7tyjnprEV"
      }
    },
    {
      "cell_type": "markdown",
      "source": [
        "0. Імпортувати бібліотеку pandas\n",
        "\n",
        "\n",
        "\n"
      ],
      "metadata": {
        "id": "ePGNrYa6pxRY"
      }
    },
    {
      "cell_type": "code",
      "source": [
        "import pandas as pd"
      ],
      "metadata": {
        "id": "KIPDNBqQpvkI"
      },
      "execution_count": null,
      "outputs": []
    },
    {
      "cell_type": "markdown",
      "source": [
        "11. Створити тестовий датафрейм зі списку, що містить записи пацієнтів про їхні прізвища, імена, дату народження, масу тіла та наявність медичного страхування. Одне зі значень зробить пустим. Ознайомтесь з типом кожної колонки."
      ],
      "metadata": {
        "id": "8g9-hgi5qWJv"
      }
    },
    {
      "cell_type": "code",
      "source": [
        "import pandas as pd\n",
        "\n",
        "data = [\n",
        "    [\"Smith\", \"John\", \"1985-03-25\", 78.5, True],\n",
        "    [\"Doe\", \"Jane\", \"1990-07-12\", 65.2, False],\n",
        "    [\"Brown\", \"Emily\", \"1978-11-03\", None, True],\n",
        "    [\"Johnson\", \"Michael\", \"2000-05-22\", 82.1, True]\n",
        "]\n",
        "\n",
        "columns = [\"Last Name\", \"First Name\", \"Date of Birth\", \"Weight (kg)\", \"Medical Insurance\"]\n",
        "\n",
        "df = pd.DataFrame(data, columns=columns)\n",
        "\n",
        "print(df.dtypes)\n",
        "\n",
        "print(df)"
      ],
      "metadata": {
        "id": "OvA4GvJ5qYb1",
        "colab": {
          "base_uri": "https://localhost:8080/"
        },
        "outputId": "5d82d4b7-758f-429c-d7bc-fbf6f47d0d51"
      },
      "execution_count": 2,
      "outputs": [
        {
          "output_type": "stream",
          "name": "stdout",
          "text": [
            "Last Name             object\n",
            "First Name            object\n",
            "Date of Birth         object\n",
            "Weight (kg)          float64\n",
            "Medical Insurance       bool\n",
            "dtype: object\n",
            "  Last Name First Name Date of Birth  Weight (kg)  Medical Insurance\n",
            "0     Smith       John    1985-03-25         78.5               True\n",
            "1       Doe       Jane    1990-07-12         65.2              False\n",
            "2     Brown      Emily    1978-11-03          NaN               True\n",
            "3   Johnson    Michael    2000-05-22         82.1               True\n"
          ]
        }
      ]
    },
    {
      "cell_type": "code",
      "source": [],
      "metadata": {
        "id": "9ioPRVvxqcQ7"
      },
      "execution_count": null,
      "outputs": []
    },
    {
      "cell_type": "markdown",
      "source": [
        "# III. Reading from file"
      ],
      "metadata": {
        "id": "b1SvVHjjqcv-"
      }
    },
    {
      "cell_type": "markdown",
      "source": [
        "12. Завантажити файл missile_attacks_daily.csv з [Kaggle](https://www.kaggle.com/datasets/piterfm/massive-missile-attacks-on-ukraine?select=missile_attacks_daily.csv). Ознайомитись з описом датасету. Додати файл до папки поточної сесії colab notebook на панелі ліворуч або на гугл диск (локально до проєкту, якщо працюєте у пайчармі). Зчитати датафрейм з файлу та вивести датафрейм на екран. Зверніть увагу на те, щоб всі колонки відповідали наведеним у описі типам даних."
      ],
      "metadata": {
        "id": "7HhZWLs_qhgq"
      }
    },
    {
      "cell_type": "code",
      "source": [
        "import pandas as pd\n",
        "\n",
        "file_path = \"/content/missile_attacks_daily.csv\"\n",
        "\n",
        "df = pd.read_csv(file_path)\n",
        "\n",
        "print(df.head(20))"
      ],
      "metadata": {
        "id": "oQcB3kIqqg0h",
        "colab": {
          "base_uri": "https://localhost:8080/"
        },
        "outputId": "476fdbef-5c46-493e-88d4-097c44983263"
      },
      "execution_count": 24,
      "outputs": [
        {
          "output_type": "stream",
          "name": "stdout",
          "text": [
            "          time_start          time_end             model  \\\n",
            "0   2025-01-25 19:00  2025-01-26 09:00    Shahed-136/131   \n",
            "1   2025-01-24 19:00  2025-01-25 09:30    Shahed-136/131   \n",
            "2   2025-01-24 18:30  2025-01-24 19:30         X-59/X-69   \n",
            "3   2025-01-23 21:00  2025-01-24 09:00    Shahed-136/131   \n",
            "4   2025-01-22 19:00  2025-01-23 09:30    Shahed-136/131   \n",
            "5   2025-01-23 04:00  2025-01-23 04:30  Iskander-M/KN-23   \n",
            "6   2025-01-21 19:00  2025-01-22 10:00    Shahed-136/131   \n",
            "7   2025-01-20 20:00  2025-01-21 09:00    Shahed-136/131   \n",
            "8   2025-01-20 20:00  2025-01-21 09:00        Iskander-M   \n",
            "9   2025-01-19 19:00  2025-01-20 08:00    Shahed-136/131   \n",
            "10  2025-01-19 19:00  2025-01-20 08:00        Iskander-M   \n",
            "11        2025-01-20        2025-01-20          Orlan-10   \n",
            "12  2025-01-18 20:00  2025-01-19 09:00    Shahed-136/131   \n",
            "13  2025-01-17 19:00  2025-01-18 08:00    Shahed-136/131   \n",
            "14  2025-01-16 19:00  2025-01-17 09:00    Shahed-136/131   \n",
            "15  2025-01-16 19:00  2025-01-17 09:00  Iskander-M/KN-23   \n",
            "16  2025-01-16 19:00  2025-01-17 09:00        Iskander-M   \n",
            "17  2025-01-15 20:00  2025-01-16 09:00    Shahed-136/131   \n",
            "18  2025-01-15 06:00  2025-01-15 08:00         X-59/X-69   \n",
            "19  2025-01-15 06:00  2025-01-15 08:00         X-22/X-32   \n",
            "\n",
            "                                         launch_place        target  carrier  \\\n",
            "0   Primorsko-Akhtarsk and Kursk oblast and Bryans...       Ukraine      NaN   \n",
            "1   Primorsko-Akhtarsk and Kursk oblast and Bryans...       Ukraine      NaN   \n",
            "2                                           Black Sea  Odesa oblast      NaN   \n",
            "3   Primorsko-Akhtarsk and Kursk oblast and Bryans...       Ukraine      NaN   \n",
            "4   Primorsko-Akhtarsk and Kursk oblast and Bryans...       Ukraine      NaN   \n",
            "5                                     Voronezh oblast  Zaporizhzhia      NaN   \n",
            "6   Primorsko-Akhtarsk and Crimea and Bryansk obla...       Ukraine      NaN   \n",
            "7   Primorsko-Akhtarsk and Oryol oblast and Millerovo       Ukraine      NaN   \n",
            "8                                     Voronezh oblast       Ukraine      NaN   \n",
            "9   Primorsko-Akhtarsk and Kursk oblast and Bryans...       Ukraine      NaN   \n",
            "10                                       Kursk oblast   Sumy oblast      NaN   \n",
            "11                                                NaN         south      NaN   \n",
            "12      Bryansk oblast and Oryol oblast and Millerovo       Ukraine      NaN   \n",
            "13  Primorsko-Akhtarsk and Bryansk oblast and Mill...       Ukraine      NaN   \n",
            "14  Primorsko-Akhtarsk and Kursk oblast and Bryans...       Ukraine      NaN   \n",
            "15                 Bryansk oblast and Voronezh oblast   Kyiv oblast      NaN   \n",
            "16                                      Rostov oblast       Ukraine      NaN   \n",
            "17  Primorsko-Akhtarsk and Bryansk oblast and Oryo...       Ukraine      NaN   \n",
            "18                                    Belgorod oblast       Ukraine      NaN   \n",
            "19                                        Tula oblast       Ukraine  Tu-22M3   \n",
            "\n",
            "    launched  destroyed  not_reach_goal  cross_border_belarus  back_russia  \\\n",
            "0       72.0         50             9.0                   NaN          NaN   \n",
            "1       61.0         46            15.0                   NaN          NaN   \n",
            "2        2.0          2             NaN                   NaN          NaN   \n",
            "3       58.0         25            27.0                   NaN          NaN   \n",
            "4       92.0         57            27.0                   NaN          NaN   \n",
            "5        4.0          0             NaN                   NaN          NaN   \n",
            "6       99.0         65            30.0                   NaN          NaN   \n",
            "7      131.0         72            59.0                   NaN          NaN   \n",
            "8        4.0          0             NaN                   NaN          NaN   \n",
            "9      141.0         93            45.0                   NaN          2.0   \n",
            "10       1.0          0             NaN                   NaN          NaN   \n",
            "11       1.0          1             NaN                   NaN          NaN   \n",
            "12      61.0         43            15.0                   NaN          NaN   \n",
            "13      39.0         24            14.0                   NaN          NaN   \n",
            "14      50.0         33             9.0                   NaN          NaN   \n",
            "15       4.0          2             NaN                   NaN          NaN   \n",
            "16       2.0          0             NaN                   NaN          NaN   \n",
            "17      55.0         34            18.0                   NaN          NaN   \n",
            "18       4.0          4             NaN                   NaN          NaN   \n",
            "19       7.0          0             NaN                   NaN          NaN   \n",
            "\n",
            "    still_attacking                                  destroyed_details  \\\n",
            "0               1.0  {'Khmelnytskyi oblast': 12, 'Odesa oblast': 4,...   \n",
            "1               NaN  {'Khmelnytskyi oblast': 4, 'Odesa oblast': NaN...   \n",
            "2               NaN                                                NaN   \n",
            "3               NaN  {'Lviv oblast and Khmelnytskyi oblast': 9, 'Su...   \n",
            "4               3.0  {'Mykolaiv oblast and Kherson oblast': 12, 'Su...   \n",
            "5               NaN                                                NaN   \n",
            "6               NaN  {'Odesa oblast and Mykolaiv oblast': 13, 'Khme...   \n",
            "7               NaN  {'Odesa oblast and Mykolaiv oblast': 10, 'Khme...   \n",
            "8               NaN                                                NaN   \n",
            "9               NaN  {'Mykolaiv oblast and Kherson oblast': 3, 'Khm...   \n",
            "10              NaN                                                NaN   \n",
            "11              NaN                                                NaN   \n",
            "12              1.0  {'Mykolaiv oblast': NaN,    'Kyiv oblast': NaN...   \n",
            "13              NaN  {'Kherson oblast': NaN, 'Khmelnytskyi oblast':...   \n",
            "14              NaN  {'Odesa oblast and Mykolaiv oblast': 7, 'Khmel...   \n",
            "15              NaN                                                NaN   \n",
            "16              NaN                                                NaN   \n",
            "17              NaN  {'Mykolaiv oblast': 5, 'Kyiv oblast': NaN, 'Su...   \n",
            "18              NaN                                                NaN   \n",
            "19              NaN                                                NaN   \n",
            "\n",
            "   launched_details launch_place_details  \\\n",
            "0               NaN                  NaN   \n",
            "1               NaN                  NaN   \n",
            "2               NaN                  NaN   \n",
            "3               NaN                  NaN   \n",
            "4               NaN                  NaN   \n",
            "5               NaN                  NaN   \n",
            "6               NaN                  NaN   \n",
            "7               NaN                  NaN   \n",
            "8               NaN                  NaN   \n",
            "9               NaN                  NaN   \n",
            "10              NaN                  NaN   \n",
            "11              NaN                  NaN   \n",
            "12              NaN                  NaN   \n",
            "13              NaN                  NaN   \n",
            "14              NaN                  NaN   \n",
            "15              NaN                  NaN   \n",
            "16              NaN                  NaN   \n",
            "17              NaN                  NaN   \n",
            "18              NaN                  NaN   \n",
            "19              NaN                  NaN   \n",
            "\n",
            "                                               source  \n",
            "0   kpszsu/posts/pfbid029aBrTrQjRGnpt3rGXRF331eowP...  \n",
            "1   kpszsu/posts/pfbid02CncG3LTpU6YEX2vwpHerqBJ7So...  \n",
            "2   kpszsu/posts/pfbid02CncG3LTpU6YEX2vwpHerqBJ7So...  \n",
            "3   kpszsu/posts/pfbid07KFB5c6v4JxyQ1cNvcNtRr9Tcxm...  \n",
            "4   kpszsu/posts/pfbid0AUPZB1WmFhHKmkwVk8BYVCw7gJa...  \n",
            "5   kpszsu/posts/pfbid0AUPZB1WmFhHKmkwVk8BYVCw7gJa...  \n",
            "6   kpszsu/posts/pfbid0SddWy51WgWJVTpdGFLQbt4V1U9D...  \n",
            "7   kpszsu/posts/pfbid0Dva3Yo2MSNjq45qSwvrvTjk3qFV...  \n",
            "8   kpszsu/posts/pfbid0Dva3Yo2MSNjq45qSwvrvTjk3qFV...  \n",
            "9   kpszsu/posts/pfbid02U5W3Bnpxin2MbKE9mBMnwmtmyD...  \n",
            "10  kpszsu/posts/pfbid02U5W3Bnpxin2MbKE9mBMnwmtmyD...  \n",
            "11  PvKPivden/posts/pfbid02dWKMm24ikGQy11soyUTm9LJ...  \n",
            "12  kpszsu/posts/pfbid0meYNAsX4voALE4SXunVpzKTwzrJ...  \n",
            "13  kpszsu/posts/pfbid0Rpzfu7u9ERu4o49Gm12eqSogKvZ...  \n",
            "14  kpszsu/posts/pfbid0Gvye9Wn2gj8RPiiGaTQFGRas9Yg...  \n",
            "15  kpszsu/posts/pfbid0Rpzfu7u9ERu4o49Gm12eqSogKvZ...  \n",
            "16  kpszsu/posts/pfbid0Gvye9Wn2gj8RPiiGaTQFGRas9Yg...  \n",
            "17  kpszsu/posts/pfbid0tPwzQHvvr63PbehDshED2WNV2vm...  \n",
            "18  kpszsu/posts/pfbid0kLxxfDQRTeUt5wQT5eahJVkW1fb...  \n",
            "19  kpszsu/posts/pfbid0kLxxfDQRTeUt5wQT5eahJVkW1fb...  \n"
          ]
        }
      ]
    },
    {
      "cell_type": "markdown",
      "source": [
        "# IV. Data understanding"
      ],
      "metadata": {
        "id": "89zu0WNErzd2"
      }
    },
    {
      "cell_type": "markdown",
      "source": [
        "13. Виведіть на екран перші 10 рядків зчитаного датафрейму."
      ],
      "metadata": {
        "id": "LJqrTfHr2d1G"
      }
    },
    {
      "cell_type": "code",
      "source": [
        "import pandas as pd\n",
        "\n",
        "file_path = \"/content/missile_attacks_daily.csv\"\n",
        "\n",
        "df = pd.read_csv(file_path)\n",
        "\n",
        "print(df.head(10))"
      ],
      "metadata": {
        "id": "GdVE9WYwr1sD",
        "colab": {
          "base_uri": "https://localhost:8080/"
        },
        "outputId": "eb729e9b-0ab7-4a09-8c73-18fadec90ae0"
      },
      "execution_count": 22,
      "outputs": [
        {
          "output_type": "stream",
          "name": "stdout",
          "text": [
            "         time_start          time_end             model  \\\n",
            "0  2025-01-25 19:00  2025-01-26 09:00    Shahed-136/131   \n",
            "1  2025-01-24 19:00  2025-01-25 09:30    Shahed-136/131   \n",
            "2  2025-01-24 18:30  2025-01-24 19:30         X-59/X-69   \n",
            "3  2025-01-23 21:00  2025-01-24 09:00    Shahed-136/131   \n",
            "4  2025-01-22 19:00  2025-01-23 09:30    Shahed-136/131   \n",
            "5  2025-01-23 04:00  2025-01-23 04:30  Iskander-M/KN-23   \n",
            "6  2025-01-21 19:00  2025-01-22 10:00    Shahed-136/131   \n",
            "7  2025-01-20 20:00  2025-01-21 09:00    Shahed-136/131   \n",
            "8  2025-01-20 20:00  2025-01-21 09:00        Iskander-M   \n",
            "9  2025-01-19 19:00  2025-01-20 08:00    Shahed-136/131   \n",
            "\n",
            "                                        launch_place        target carrier  \\\n",
            "0  Primorsko-Akhtarsk and Kursk oblast and Bryans...       Ukraine     NaN   \n",
            "1  Primorsko-Akhtarsk and Kursk oblast and Bryans...       Ukraine     NaN   \n",
            "2                                          Black Sea  Odesa oblast     NaN   \n",
            "3  Primorsko-Akhtarsk and Kursk oblast and Bryans...       Ukraine     NaN   \n",
            "4  Primorsko-Akhtarsk and Kursk oblast and Bryans...       Ukraine     NaN   \n",
            "5                                    Voronezh oblast  Zaporizhzhia     NaN   \n",
            "6  Primorsko-Akhtarsk and Crimea and Bryansk obla...       Ukraine     NaN   \n",
            "7  Primorsko-Akhtarsk and Oryol oblast and Millerovo       Ukraine     NaN   \n",
            "8                                    Voronezh oblast       Ukraine     NaN   \n",
            "9  Primorsko-Akhtarsk and Kursk oblast and Bryans...       Ukraine     NaN   \n",
            "\n",
            "   launched  destroyed  not_reach_goal  cross_border_belarus  back_russia  \\\n",
            "0      72.0         50             9.0                   NaN          NaN   \n",
            "1      61.0         46            15.0                   NaN          NaN   \n",
            "2       2.0          2             NaN                   NaN          NaN   \n",
            "3      58.0         25            27.0                   NaN          NaN   \n",
            "4      92.0         57            27.0                   NaN          NaN   \n",
            "5       4.0          0             NaN                   NaN          NaN   \n",
            "6      99.0         65            30.0                   NaN          NaN   \n",
            "7     131.0         72            59.0                   NaN          NaN   \n",
            "8       4.0          0             NaN                   NaN          NaN   \n",
            "9     141.0         93            45.0                   NaN          2.0   \n",
            "\n",
            "   still_attacking                                  destroyed_details  \\\n",
            "0              1.0  {'Khmelnytskyi oblast': 12, 'Odesa oblast': 4,...   \n",
            "1              NaN  {'Khmelnytskyi oblast': 4, 'Odesa oblast': NaN...   \n",
            "2              NaN                                                NaN   \n",
            "3              NaN  {'Lviv oblast and Khmelnytskyi oblast': 9, 'Su...   \n",
            "4              3.0  {'Mykolaiv oblast and Kherson oblast': 12, 'Su...   \n",
            "5              NaN                                                NaN   \n",
            "6              NaN  {'Odesa oblast and Mykolaiv oblast': 13, 'Khme...   \n",
            "7              NaN  {'Odesa oblast and Mykolaiv oblast': 10, 'Khme...   \n",
            "8              NaN                                                NaN   \n",
            "9              NaN  {'Mykolaiv oblast and Kherson oblast': 3, 'Khm...   \n",
            "\n",
            "  launched_details launch_place_details  \\\n",
            "0              NaN                  NaN   \n",
            "1              NaN                  NaN   \n",
            "2              NaN                  NaN   \n",
            "3              NaN                  NaN   \n",
            "4              NaN                  NaN   \n",
            "5              NaN                  NaN   \n",
            "6              NaN                  NaN   \n",
            "7              NaN                  NaN   \n",
            "8              NaN                  NaN   \n",
            "9              NaN                  NaN   \n",
            "\n",
            "                                              source  \n",
            "0  kpszsu/posts/pfbid029aBrTrQjRGnpt3rGXRF331eowP...  \n",
            "1  kpszsu/posts/pfbid02CncG3LTpU6YEX2vwpHerqBJ7So...  \n",
            "2  kpszsu/posts/pfbid02CncG3LTpU6YEX2vwpHerqBJ7So...  \n",
            "3  kpszsu/posts/pfbid07KFB5c6v4JxyQ1cNvcNtRr9Tcxm...  \n",
            "4  kpszsu/posts/pfbid0AUPZB1WmFhHKmkwVk8BYVCw7gJa...  \n",
            "5  kpszsu/posts/pfbid0AUPZB1WmFhHKmkwVk8BYVCw7gJa...  \n",
            "6  kpszsu/posts/pfbid0SddWy51WgWJVTpdGFLQbt4V1U9D...  \n",
            "7  kpszsu/posts/pfbid0Dva3Yo2MSNjq45qSwvrvTjk3qFV...  \n",
            "8  kpszsu/posts/pfbid0Dva3Yo2MSNjq45qSwvrvTjk3qFV...  \n",
            "9  kpszsu/posts/pfbid02U5W3Bnpxin2MbKE9mBMnwmtmyD...  \n"
          ]
        }
      ]
    },
    {
      "cell_type": "markdown",
      "source": [
        "14. Отримайте інформацію про форму датафрейму."
      ],
      "metadata": {
        "id": "1PtkLHWj2lq0"
      }
    },
    {
      "cell_type": "code",
      "source": [
        "df_shape = df.shape\n",
        "\n",
        "print(df_shape)"
      ],
      "metadata": {
        "id": "CBPTYTjV2mtG",
        "colab": {
          "base_uri": "https://localhost:8080/"
        },
        "outputId": "e2e7b594-7d54-4f25-a9d9-7f25930e2891"
      },
      "execution_count": 25,
      "outputs": [
        {
          "output_type": "stream",
          "name": "stdout",
          "text": [
            "(2056, 16)\n"
          ]
        }
      ]
    },
    {
      "cell_type": "markdown",
      "source": [
        "15. Отримайте дані про кожну колонку з її назвою, типом даних та кількістю непустих значень."
      ],
      "metadata": {
        "id": "GDVcFC6F2yVz"
      }
    },
    {
      "cell_type": "code",
      "source": [
        "df_info = df.info()"
      ],
      "metadata": {
        "id": "GTRgfKJ920bn",
        "colab": {
          "base_uri": "https://localhost:8080/"
        },
        "outputId": "5ac4fa1b-175e-48e4-99e6-87a4ffe3add6"
      },
      "execution_count": 26,
      "outputs": [
        {
          "output_type": "stream",
          "name": "stdout",
          "text": [
            "<class 'pandas.core.frame.DataFrame'>\n",
            "RangeIndex: 2056 entries, 0 to 2055\n",
            "Data columns (total 16 columns):\n",
            " #   Column                Non-Null Count  Dtype  \n",
            "---  ------                --------------  -----  \n",
            " 0   time_start            2056 non-null   object \n",
            " 1   time_end              2056 non-null   object \n",
            " 2   model                 2056 non-null   object \n",
            " 3   launch_place          1034 non-null   object \n",
            " 4   target                2028 non-null   object \n",
            " 5   carrier               225 non-null    object \n",
            " 6   launched              2053 non-null   float64\n",
            " 7   destroyed             2056 non-null   int64  \n",
            " 8   not_reach_goal        164 non-null    float64\n",
            " 9   cross_border_belarus  32 non-null     float64\n",
            " 10  back_russia           35 non-null     float64\n",
            " 11  still_attacking       30 non-null     float64\n",
            " 12  destroyed_details     301 non-null    object \n",
            " 13  launched_details      4 non-null      object \n",
            " 14  launch_place_details  4 non-null      object \n",
            " 15  source                2056 non-null   object \n",
            "dtypes: float64(5), int64(1), object(10)\n",
            "memory usage: 257.1+ KB\n"
          ]
        }
      ]
    },
    {
      "cell_type": "markdown",
      "source": [
        "16. Отримайте статистику для колонок числового типу."
      ],
      "metadata": {
        "id": "DEy-hgsw2452"
      }
    },
    {
      "cell_type": "code",
      "source": [
        "df_numeric_stats = df.describe()\n",
        "\n",
        "print(df_numeric_stats)"
      ],
      "metadata": {
        "id": "94mI2N9t267Q",
        "colab": {
          "base_uri": "https://localhost:8080/"
        },
        "outputId": "965c2831-f169-4eab-97ef-c3add7d4e98e"
      },
      "execution_count": 27,
      "outputs": [
        {
          "output_type": "stream",
          "name": "stdout",
          "text": [
            "          launched    destroyed  not_reach_goal  cross_border_belarus  \\\n",
            "count  2053.000000  2056.000000      164.000000             32.000000   \n",
            "mean     10.872382     7.647860       21.231707              2.312500   \n",
            "std      21.605295    14.506397       19.812804              2.054696   \n",
            "min       1.000000     0.000000        1.000000              1.000000   \n",
            "25%       1.000000     1.000000        4.000000              1.000000   \n",
            "50%       2.000000     1.000000       16.000000              2.000000   \n",
            "75%       9.000000     7.000000       30.000000              2.000000   \n",
            "max     193.000000    99.000000      105.000000             10.000000   \n",
            "\n",
            "       back_russia  still_attacking  \n",
            "count    35.000000        30.000000  \n",
            "mean      2.000000         2.766667  \n",
            "std       1.137593         2.848876  \n",
            "min       1.000000         1.000000  \n",
            "25%       1.000000         1.000000  \n",
            "50%       2.000000         1.000000  \n",
            "75%       3.000000         3.750000  \n",
            "max       5.000000        10.000000  \n"
          ]
        }
      ]
    },
    {
      "cell_type": "markdown",
      "source": [],
      "metadata": {
        "id": "IkQKyLMftHfL"
      }
    },
    {
      "cell_type": "markdown",
      "source": [
        "17. Отримати кількість унікальних значень у кожній колонці. Вивести на екран значення та кількість цих значень у колонці, яка має найменше унікальних значень."
      ],
      "metadata": {
        "id": "jSaO_C5XtS_3"
      }
    },
    {
      "cell_type": "markdown",
      "source": [],
      "metadata": {
        "id": "tRFUHPOZtS91"
      }
    },
    {
      "cell_type": "code",
      "source": [
        "unique_counts = df.nunique()\n",
        "\n",
        "print(\"Number of unique values in each column:\\n\", unique_counts)\n",
        "\n",
        "min_unique_column = unique_counts.idxmin()\n",
        "\n",
        "print(f\"\\nUnique values and their counts in the column '{min_unique_column}':\")\n",
        "print(df[min_unique_column].value_counts())"
      ],
      "metadata": {
        "id": "RMTjhCdVtD0g"
      },
      "execution_count": null,
      "outputs": []
    },
    {
      "cell_type": "markdown",
      "source": [
        "18. На основі отриманої інформації про датасет вище, опишіть по пунктах, що б ви виправили або на що б звернули увагу на кроці очищення даних і чому?"
      ],
      "metadata": {
        "id": "iVRkzUti3uC_"
      }
    },
    {
      "cell_type": "markdown",
      "source": [
        "**Відповідь**\n",
        "\n",
        "1. Перевірка дублікатів  \n",
        "2. Перевірка унікальних значень у категоріальних колонках\n",
        "3. Виправлення типів даних"
      ],
      "metadata": {
        "id": "9_Q-Fcuo30zY"
      }
    },
    {
      "cell_type": "markdown",
      "source": [
        "# V. Data Cleaning"
      ],
      "metadata": {
        "id": "Ue9ECz5-3_pq"
      }
    },
    {
      "cell_type": "markdown",
      "source": [
        "19. Перетворити колонку launched у цілочислену (Int64). Перевірити, чи все пройшло, як очікувалось."
      ],
      "metadata": {
        "id": "ZtHUiSrV4CL-"
      }
    },
    {
      "cell_type": "code",
      "source": [
        "df['launched'] = df['launched'].astype('Int64')\n",
        "\n",
        "print(df.dtypes)\n",
        "print(df['launched'].head(10))"
      ],
      "metadata": {
        "id": "AWyo_-Un3xqz",
        "colab": {
          "base_uri": "https://localhost:8080/"
        },
        "outputId": "2dbf7fe0-524b-4d13-8f89-9753a82b0101"
      },
      "execution_count": 28,
      "outputs": [
        {
          "output_type": "stream",
          "name": "stdout",
          "text": [
            "time_start               object\n",
            "time_end                 object\n",
            "model                    object\n",
            "launch_place             object\n",
            "target                   object\n",
            "carrier                  object\n",
            "launched                  Int64\n",
            "destroyed                 int64\n",
            "not_reach_goal          float64\n",
            "cross_border_belarus    float64\n",
            "back_russia             float64\n",
            "still_attacking         float64\n",
            "destroyed_details        object\n",
            "launched_details         object\n",
            "launch_place_details     object\n",
            "source                   object\n",
            "dtype: object\n",
            "0     72\n",
            "1     61\n",
            "2      2\n",
            "3     58\n",
            "4     92\n",
            "5      4\n",
            "6     99\n",
            "7    131\n",
            "8      4\n",
            "9    141\n",
            "Name: launched, dtype: Int64\n"
          ]
        }
      ]
    },
    {
      "cell_type": "markdown",
      "source": [
        "20. Видалити колонки, де кількість непустих значень становить менше 30% від загальної кількості записів."
      ],
      "metadata": {
        "id": "KsHhM4EM4O3d"
      }
    },
    {
      "cell_type": "code",
      "source": [
        "threshold = len(df) * 0.3\n",
        "\n",
        "df_cleaned = df.dropna(axis=1, thresh=threshold)\n",
        "\n",
        "print(\"DataFrame shape after column removal:\", df_cleaned.shape)\n",
        "print(\"Remaining columns:\\n\", df_cleaned.columns)"
      ],
      "metadata": {
        "id": "Z1ZCclle4Vyk",
        "colab": {
          "base_uri": "https://localhost:8080/"
        },
        "outputId": "872f2a55-119f-4ff7-d2d3-510e1431f1d2"
      },
      "execution_count": 29,
      "outputs": [
        {
          "output_type": "stream",
          "name": "stdout",
          "text": [
            "Форма датафрейму після видалення колонок: (2056, 8)\n",
            "Залишилися колонки:\n",
            " Index(['time_start', 'time_end', 'model', 'launch_place', 'target', 'launched',\n",
            "       'destroyed', 'source'],\n",
            "      dtype='object')\n"
          ]
        }
      ]
    },
    {
      "cell_type": "markdown",
      "source": [
        "21. Очистити датафрейм від дублікатів (дублюючихся рядків) та записів, де атака продовжувалась відʼємну або нульову кількість часу (що фізично неможливо). Не забудьте оновити індекс. Скільки рядків було видалено? Як ви це перевірили у коді?"
      ],
      "metadata": {
        "id": "p8cD0M0U4cNT"
      }
    },
    {
      "cell_type": "code",
      "source": [
        "import pandas as pd\n",
        "\n",
        "file_path = \"/content/missile_attacks_daily.csv\"\n",
        "df = pd.read_csv(file_path)\n",
        "\n",
        "df['time_start'] = pd.to_datetime(df['time_start'], errors='coerce', infer_datetime_format=True)\n",
        "df['time_end'] = pd.to_datetime(df['time_end'], errors='coerce', infer_datetime_format=True)\n",
        "\n",
        "print(\"Missing values after conversion:\\n\", df[['time_start', 'time_end']].isna().sum())\n",
        "\n",
        "df = df.dropna(subset=['time_start', 'time_end'])\n",
        "\n",
        "df['attack_duration'] = (df['time_end'] - df['time_start']).dt.total_seconds() / 60\n",
        "\n",
        "initial_rows = len(df)\n",
        "\n",
        "df = df.drop_duplicates()\n",
        "\n",
        "df = df[df['attack_duration'] > 0]\n",
        "\n",
        "df.reset_index(drop=True, inplace=True)\n",
        "\n",
        "final_rows = len(df)\n",
        "removed_rows = initial_rows - final_rows\n",
        "\n",
        "print(f\"Number of removed rows: {removed_rows}\")\n",
        "print(f\"Final shape of the DataFrame: {df.shape}\")"
      ],
      "metadata": {
        "id": "in3Fvn0I4l-I",
        "colab": {
          "base_uri": "https://localhost:8080/"
        },
        "outputId": "540fbd88-1e08-4c68-9274-9f1ffd28ba40"
      },
      "execution_count": 34,
      "outputs": [
        {
          "output_type": "stream",
          "name": "stdout",
          "text": [
            "Missing values after conversion:\n",
            " time_start    1446\n",
            "time_end       678\n",
            "dtype: int64\n",
            "Number of removed rows: 162\n",
            "Final shape of the DataFrame: (445, 17)\n"
          ]
        },
        {
          "output_type": "stream",
          "name": "stderr",
          "text": [
            "<ipython-input-34-59cff4a07625>:6: UserWarning: The argument 'infer_datetime_format' is deprecated and will be removed in a future version. A strict version of it is now the default, see https://pandas.pydata.org/pdeps/0004-consistent-to-datetime-parsing.html. You can safely remove this argument.\n",
            "  df['time_start'] = pd.to_datetime(df['time_start'], errors='coerce', infer_datetime_format=True)\n",
            "<ipython-input-34-59cff4a07625>:7: UserWarning: The argument 'infer_datetime_format' is deprecated and will be removed in a future version. A strict version of it is now the default, see https://pandas.pydata.org/pdeps/0004-consistent-to-datetime-parsing.html. You can safely remove this argument.\n",
            "  df['time_end'] = pd.to_datetime(df['time_end'], errors='coerce', infer_datetime_format=True)\n"
          ]
        }
      ]
    },
    {
      "cell_type": "markdown",
      "source": [
        "**місце для текстової відповіді**"
      ],
      "metadata": {
        "id": "8zqL82Ie4nqY"
      }
    },
    {
      "cell_type": "markdown",
      "source": [
        "22. Виведіть на екран всі рядки, де є хоч одне пропущене значення."
      ],
      "metadata": {
        "id": "6oZ7C_ry4uvb"
      }
    },
    {
      "cell_type": "code",
      "source": [
        "missing_rows = df[df.isnull().any(axis=1)]\n",
        "\n",
        "print(\"Rows with missing values:\")\n",
        "print(missing_rows)\n",
        "\n",
        "print(f\"\\nTotal rows with missing values: {len(missing_rows)}\")"
      ],
      "metadata": {
        "id": "BPmCTDtg4wVS",
        "colab": {
          "base_uri": "https://localhost:8080/"
        },
        "outputId": "27d76519-fbad-4ba6-8c11-3f7565e3a214"
      },
      "execution_count": 35,
      "outputs": [
        {
          "output_type": "stream",
          "name": "stdout",
          "text": [
            "Rows with missing values:\n",
            "             time_start            time_end           model  \\\n",
            "0   2025-01-25 19:00:00 2025-01-26 09:00:00  Shahed-136/131   \n",
            "1   2025-01-24 19:00:00 2025-01-25 09:30:00  Shahed-136/131   \n",
            "2   2025-01-24 18:30:00 2025-01-24 19:30:00       X-59/X-69   \n",
            "3   2025-01-23 21:00:00 2025-01-24 09:00:00  Shahed-136/131   \n",
            "4   2025-01-22 19:00:00 2025-01-23 09:30:00  Shahed-136/131   \n",
            "..                  ...                 ...             ...   \n",
            "440 2022-10-06 15:00:00 2022-10-06 20:00:00       Mohajer-6   \n",
            "441 2022-10-06 09:00:00 2022-10-06 11:30:00  Shahed-136/131   \n",
            "442 2022-10-06 09:00:00 2022-10-06 11:30:00       Mohajer-6   \n",
            "443 2022-10-02 00:00:00 2022-10-02 02:00:00  Shahed-136/131   \n",
            "444 2022-09-29 23:00:00 2022-09-29 23:59:00  Shahed-136/131   \n",
            "\n",
            "                                          launch_place  \\\n",
            "0    Primorsko-Akhtarsk and Kursk oblast and Bryans...   \n",
            "1    Primorsko-Akhtarsk and Kursk oblast and Bryans...   \n",
            "2                                            Black Sea   \n",
            "3    Primorsko-Akhtarsk and Kursk oblast and Bryans...   \n",
            "4    Primorsko-Akhtarsk and Kursk oblast and Bryans...   \n",
            "..                                                 ...   \n",
            "440                                                NaN   \n",
            "441                                                NaN   \n",
            "442                                                NaN   \n",
            "443                                                NaN   \n",
            "444                                                NaN   \n",
            "\n",
            "                               target carrier  launched  destroyed  \\\n",
            "0                             Ukraine     NaN      72.0         50   \n",
            "1                             Ukraine     NaN      61.0         46   \n",
            "2                        Odesa oblast     NaN       2.0          2   \n",
            "3                             Ukraine     NaN      58.0         25   \n",
            "4                             Ukraine     NaN      92.0         57   \n",
            "..                                ...     ...       ...        ...   \n",
            "440                             south     NaN       1.0          1   \n",
            "441                   Mykolaiv oblast     NaN       2.0          2   \n",
            "442                   Mykolaiv oblast     NaN       1.0          1   \n",
            "443                   Mykolaiv oblast     NaN       7.0          5   \n",
            "444  Odesa oblast and Mykolaiv oblast     NaN       7.0          5   \n",
            "\n",
            "     not_reach_goal  cross_border_belarus  back_russia  still_attacking  \\\n",
            "0               9.0                   NaN          NaN              1.0   \n",
            "1              15.0                   NaN          NaN              NaN   \n",
            "2               NaN                   NaN          NaN              NaN   \n",
            "3              27.0                   NaN          NaN              NaN   \n",
            "4              27.0                   NaN          NaN              3.0   \n",
            "..              ...                   ...          ...              ...   \n",
            "440             NaN                   NaN          NaN              NaN   \n",
            "441             NaN                   NaN          NaN              NaN   \n",
            "442             NaN                   NaN          NaN              NaN   \n",
            "443             NaN                   NaN          NaN              NaN   \n",
            "444             NaN                   NaN          NaN              NaN   \n",
            "\n",
            "                                     destroyed_details launched_details  \\\n",
            "0    {'Khmelnytskyi oblast': 12, 'Odesa oblast': 4,...              NaN   \n",
            "1    {'Khmelnytskyi oblast': 4, 'Odesa oblast': NaN...              NaN   \n",
            "2                                                  NaN              NaN   \n",
            "3    {'Lviv oblast and Khmelnytskyi oblast': 9, 'Su...              NaN   \n",
            "4    {'Mykolaiv oblast and Kherson oblast': 12, 'Su...              NaN   \n",
            "..                                                 ...              ...   \n",
            "440                                                NaN              NaN   \n",
            "441                                                NaN              NaN   \n",
            "442                                                NaN              NaN   \n",
            "443                                                NaN              NaN   \n",
            "444                                                NaN              NaN   \n",
            "\n",
            "    launch_place_details                                             source  \\\n",
            "0                    NaN  kpszsu/posts/pfbid029aBrTrQjRGnpt3rGXRF331eowP...   \n",
            "1                    NaN  kpszsu/posts/pfbid02CncG3LTpU6YEX2vwpHerqBJ7So...   \n",
            "2                    NaN  kpszsu/posts/pfbid02CncG3LTpU6YEX2vwpHerqBJ7So...   \n",
            "3                    NaN  kpszsu/posts/pfbid07KFB5c6v4JxyQ1cNvcNtRr9Tcxm...   \n",
            "4                    NaN  kpszsu/posts/pfbid0AUPZB1WmFhHKmkwVk8BYVCw7gJa...   \n",
            "..                   ...                                                ...   \n",
            "440                  NaN  kpszsu/posts/pfbid0rxEnbpvxAg8d8J5NW9ABgghPzcb...   \n",
            "441                  NaN  kpszsu/posts/pfbid02YPkepucHoDQbmGfZURk8ScqNyM...   \n",
            "442                  NaN  kpszsu/posts/pfbid02YPkepucHoDQbmGfZURk8ScqNyM...   \n",
            "443                  NaN  kpszsu/posts/pfbid021aK2TqryAuB8gGrDYMTv3R8Xiu...   \n",
            "444                  NaN  kpszsu/posts/pfbid021aK2TqryAuB8gGrDYMTv3R8Xiu...   \n",
            "\n",
            "     attack_duration  \n",
            "0              840.0  \n",
            "1              870.0  \n",
            "2               60.0  \n",
            "3              720.0  \n",
            "4              870.0  \n",
            "..               ...  \n",
            "440            300.0  \n",
            "441            150.0  \n",
            "442            150.0  \n",
            "443            120.0  \n",
            "444             59.0  \n",
            "\n",
            "[445 rows x 17 columns]\n",
            "\n",
            "Total rows with missing values: 445\n"
          ]
        }
      ]
    }
  ]
}