{
  "cells": [
    {
      "cell_type": "markdown",
      "metadata": {
        "id": "yS3c5TMcysZk"
      },
      "source": [
        "## Лабораторна робота 5. **CLASSIFICATION** 🔵/🔺"
      ]
    },
    {
      "cell_type": "markdown",
      "metadata": {
        "id": "o_YxWfDYysZp"
      },
      "source": [
        "Оцінювання даної роботи буде ураховувати якість Ваших висновків та візуалізацій. При наявності ЛИШЕ коду та візуалізацій без роз'яснень, робота оцінюватися НЕ БУДЕ.  \n",
        "\n",
        "Більшість поставлених в цій лабораторній роботі задач в майбутньому буде ставитись Вами самойстійно!\n",
        "\n",
        "Під час виконання Вам дозволено користуватися будь-якими зручними для вас бібліотеками для візуалізації.\n",
        "\n",
        "Оформлення коментарів повинно проводитися в текстових комірках ноутбука з використанням синтаксису [LaTeX](https://en.wikibooks.org/wiki/LaTeX/Basics) для оформлення тексту та формул.\n",
        "\n",
        "Роботи ідентифіковані як ІДЕНТИЧНІ одразу отримують 0 балів."
      ]
    },
    {
      "cell_type": "markdown",
      "metadata": {
        "id": "ji8bJZmkysZq"
      },
      "source": [
        "# Опис вибірки \"bank-additional-full\""
      ]
    },
    {
      "cell_type": "markdown",
      "metadata": {
        "id": "fN7lEmYNysZq"
      },
      "source": [
        "   # Input variables:\n",
        "   `bank client data:`  \n",
        "   1 - **age** (numeric)  \n",
        "   2 - **job** : type of job (categorical: \"admin.\",\"blue-collar\",\"entrepreneur\",\"housemaid\",\"management\",\"retired\",\"self-employed\",\"services\",\"student\",\"technician\",\"unemployed\",\"unknown\")  \n",
        "   3 - **marital** : marital status (categorical: \"divorced\",\"married\",\"single\",\"unknown\"; note: \"divorced\" means divorced or widowed)  \n",
        "   4 - **education** (categorical: \"basic.4y\",\"basic.6y\",\"basic.9y\",\"high.school\",\"illiterate\",\"professional.course\",\"university.degree\",\"unknown\")  \n",
        "   5 - **default**: has credit in default? (categorical: \"no\",\"yes\",\"unknown\")  \n",
        "   6 - **housing**: has housing loan? (categorical: \"no\",\"yes\",\"unknown\")  \n",
        "   7 - **loan**: has personal loan? (categorical: \"no\",\"yes\",\"unknown\")  \n",
        "   # related with the last contact of the current campaign:  \n",
        "   8 - **contact**: contact communication type (categorical: \"cellular\",\"telephone\")   \n",
        "   9 - **month**: last contact month of year (categorical: \"jan\", \"feb\", \"mar\", ..., \"nov\", \"dec\")  \n",
        "  10 - **day_of_week**: last contact day of the week (categorical: \"mon\",\"tue\",\"wed\",\"thu\",\"fri\")  \n",
        "  11 - **duration**: last contact duration, in seconds (numeric). Important note:  this attribute highly affects the output target (e.g., if duration=0 then y=\"no\"). Yet, the duration is not known before a call is performed. Also, after the end of the call y is obviously known. Thus, this input should only be included for benchmark purposes and should be discarded if the intention is to have a realistic predictive model.  \n",
        "   # other attributes:  \n",
        "  12 - **campaign**: number of contacts performed during this campaign and for this client (numeric, includes last contact)  \n",
        "  13 - **pdays**: number of days that passed by after the client was last contacted from a previous campaign (numeric; 999 means client was not previously contacted)  \n",
        "  14 - **previous**: number of contacts performed before this campaign and for this client (numeric)\n",
        "  15 - **poutcome**: outcome of the previous marketing campaign (categorical: \"failure\",\"nonexistent\",\"success\")  \n",
        "   # social and economic context attributes  \n",
        "  16 - **emp.var.rate**: employment variation rate - quarterly indicator (numeric)  \n",
        "  17 - **cons.price.idx**: consumer price index - monthly indicator (numeric)       \n",
        "  18 - **cons.conf.idx**: consumer confidence index - monthly indicator (numeric)       \n",
        "  19 - **euribor3m**: euribor 3 month rate - daily indicator (numeric)  \n",
        "  20 - **nr.employed**: number of employees - quarterly indicator (numeric)  \n",
        "    \n",
        "   `Output variable (desired target):`  \n",
        "  21 - **y** - has the client subscribed a term deposit? (binary: \"yes\",\"no\")"
      ]
    },
    {
      "cell_type": "markdown",
      "metadata": {
        "id": "BewrKRUIysZr"
      },
      "source": [
        "## Імпорт необхідних бібліотек та завантаження даних"
      ]
    },
    {
      "cell_type": "markdown",
      "metadata": {
        "id": "sxyNYSbRysZr"
      },
      "source": [
        "**Завдання 1** підготовка даних до опрацювання\n",
        "\n",
        "1. завантажте вибірку `bank-additional-full.csv`;   \n",
        "2. підключіть необхідні бібліотеки;  \n",
        "3. вивести основну статистичну інформацію по числовим змінним;  \n",
        "4. вивести розмірність датасету."
      ]
    },
    {
      "cell_type": "code",
      "execution_count": null,
      "metadata": {
        "id": "8f4DR0U4ysZr"
      },
      "outputs": [],
      "source": [
        "import numpy as np\n",
        "import pandas as pd\n",
        "import matplotlib.pyplot as plt\n",
        "import seaborn as sns\n",
        "from sklearn.preprocessing import LabelEncoder\n",
        "from sklearn.model_selection import train_test_split\n",
        "from sklearn.model_selection import KFold\n",
        "from sklearn.linear_model import LogisticRegression\n",
        "from sklearn.model_selection import cross_val_score\n",
        "from sklearn.metrics import confusion_matrix, accuracy_score\n",
        "from sklearn.model_selection import train_test_split\n",
        "from sklearn.preprocessing import StandardScaler\n",
        "from sklearn import model_selection\n",
        "from sklearn.neighbors import KNeighborsClassifier\n",
        "from google.colab import files\n",
        "\n",
        "%matplotlib inline\n",
        "import warnings\n",
        "warnings.filterwarnings('ignore')"
      ]
    },
    {
      "cell_type": "code",
      "execution_count": null,
      "metadata": {
        "id": "uzAsItFFysZs",
        "colab": {
          "base_uri": "https://localhost:8080/",
          "height": 420
        },
        "outputId": "d55e750b-9b1d-44f3-bd2d-fc2cba41a0a8"
      },
      "outputs": [
        {
          "output_type": "display_data",
          "data": {
            "text/plain": [
              "<IPython.core.display.HTML object>"
            ],
            "text/html": [
              "\n",
              "     <input type=\"file\" id=\"files-50d3e3fb-38c3-4459-97e5-3ae411155be2\" name=\"files[]\" multiple disabled\n",
              "        style=\"border:none\" />\n",
              "     <output id=\"result-50d3e3fb-38c3-4459-97e5-3ae411155be2\">\n",
              "      Upload widget is only available when the cell has been executed in the\n",
              "      current browser session. Please rerun this cell to enable.\n",
              "      </output>\n",
              "      <script>// Copyright 2017 Google LLC\n",
              "//\n",
              "// Licensed under the Apache License, Version 2.0 (the \"License\");\n",
              "// you may not use this file except in compliance with the License.\n",
              "// You may obtain a copy of the License at\n",
              "//\n",
              "//      http://www.apache.org/licenses/LICENSE-2.0\n",
              "//\n",
              "// Unless required by applicable law or agreed to in writing, software\n",
              "// distributed under the License is distributed on an \"AS IS\" BASIS,\n",
              "// WITHOUT WARRANTIES OR CONDITIONS OF ANY KIND, either express or implied.\n",
              "// See the License for the specific language governing permissions and\n",
              "// limitations under the License.\n",
              "\n",
              "/**\n",
              " * @fileoverview Helpers for google.colab Python module.\n",
              " */\n",
              "(function(scope) {\n",
              "function span(text, styleAttributes = {}) {\n",
              "  const element = document.createElement('span');\n",
              "  element.textContent = text;\n",
              "  for (const key of Object.keys(styleAttributes)) {\n",
              "    element.style[key] = styleAttributes[key];\n",
              "  }\n",
              "  return element;\n",
              "}\n",
              "\n",
              "// Max number of bytes which will be uploaded at a time.\n",
              "const MAX_PAYLOAD_SIZE = 100 * 1024;\n",
              "\n",
              "function _uploadFiles(inputId, outputId) {\n",
              "  const steps = uploadFilesStep(inputId, outputId);\n",
              "  const outputElement = document.getElementById(outputId);\n",
              "  // Cache steps on the outputElement to make it available for the next call\n",
              "  // to uploadFilesContinue from Python.\n",
              "  outputElement.steps = steps;\n",
              "\n",
              "  return _uploadFilesContinue(outputId);\n",
              "}\n",
              "\n",
              "// This is roughly an async generator (not supported in the browser yet),\n",
              "// where there are multiple asynchronous steps and the Python side is going\n",
              "// to poll for completion of each step.\n",
              "// This uses a Promise to block the python side on completion of each step,\n",
              "// then passes the result of the previous step as the input to the next step.\n",
              "function _uploadFilesContinue(outputId) {\n",
              "  const outputElement = document.getElementById(outputId);\n",
              "  const steps = outputElement.steps;\n",
              "\n",
              "  const next = steps.next(outputElement.lastPromiseValue);\n",
              "  return Promise.resolve(next.value.promise).then((value) => {\n",
              "    // Cache the last promise value to make it available to the next\n",
              "    // step of the generator.\n",
              "    outputElement.lastPromiseValue = value;\n",
              "    return next.value.response;\n",
              "  });\n",
              "}\n",
              "\n",
              "/**\n",
              " * Generator function which is called between each async step of the upload\n",
              " * process.\n",
              " * @param {string} inputId Element ID of the input file picker element.\n",
              " * @param {string} outputId Element ID of the output display.\n",
              " * @return {!Iterable<!Object>} Iterable of next steps.\n",
              " */\n",
              "function* uploadFilesStep(inputId, outputId) {\n",
              "  const inputElement = document.getElementById(inputId);\n",
              "  inputElement.disabled = false;\n",
              "\n",
              "  const outputElement = document.getElementById(outputId);\n",
              "  outputElement.innerHTML = '';\n",
              "\n",
              "  const pickedPromise = new Promise((resolve) => {\n",
              "    inputElement.addEventListener('change', (e) => {\n",
              "      resolve(e.target.files);\n",
              "    });\n",
              "  });\n",
              "\n",
              "  const cancel = document.createElement('button');\n",
              "  inputElement.parentElement.appendChild(cancel);\n",
              "  cancel.textContent = 'Cancel upload';\n",
              "  const cancelPromise = new Promise((resolve) => {\n",
              "    cancel.onclick = () => {\n",
              "      resolve(null);\n",
              "    };\n",
              "  });\n",
              "\n",
              "  // Wait for the user to pick the files.\n",
              "  const files = yield {\n",
              "    promise: Promise.race([pickedPromise, cancelPromise]),\n",
              "    response: {\n",
              "      action: 'starting',\n",
              "    }\n",
              "  };\n",
              "\n",
              "  cancel.remove();\n",
              "\n",
              "  // Disable the input element since further picks are not allowed.\n",
              "  inputElement.disabled = true;\n",
              "\n",
              "  if (!files) {\n",
              "    return {\n",
              "      response: {\n",
              "        action: 'complete',\n",
              "      }\n",
              "    };\n",
              "  }\n",
              "\n",
              "  for (const file of files) {\n",
              "    const li = document.createElement('li');\n",
              "    li.append(span(file.name, {fontWeight: 'bold'}));\n",
              "    li.append(span(\n",
              "        `(${file.type || 'n/a'}) - ${file.size} bytes, ` +\n",
              "        `last modified: ${\n",
              "            file.lastModifiedDate ? file.lastModifiedDate.toLocaleDateString() :\n",
              "                                    'n/a'} - `));\n",
              "    const percent = span('0% done');\n",
              "    li.appendChild(percent);\n",
              "\n",
              "    outputElement.appendChild(li);\n",
              "\n",
              "    const fileDataPromise = new Promise((resolve) => {\n",
              "      const reader = new FileReader();\n",
              "      reader.onload = (e) => {\n",
              "        resolve(e.target.result);\n",
              "      };\n",
              "      reader.readAsArrayBuffer(file);\n",
              "    });\n",
              "    // Wait for the data to be ready.\n",
              "    let fileData = yield {\n",
              "      promise: fileDataPromise,\n",
              "      response: {\n",
              "        action: 'continue',\n",
              "      }\n",
              "    };\n",
              "\n",
              "    // Use a chunked sending to avoid message size limits. See b/62115660.\n",
              "    let position = 0;\n",
              "    do {\n",
              "      const length = Math.min(fileData.byteLength - position, MAX_PAYLOAD_SIZE);\n",
              "      const chunk = new Uint8Array(fileData, position, length);\n",
              "      position += length;\n",
              "\n",
              "      const base64 = btoa(String.fromCharCode.apply(null, chunk));\n",
              "      yield {\n",
              "        response: {\n",
              "          action: 'append',\n",
              "          file: file.name,\n",
              "          data: base64,\n",
              "        },\n",
              "      };\n",
              "\n",
              "      let percentDone = fileData.byteLength === 0 ?\n",
              "          100 :\n",
              "          Math.round((position / fileData.byteLength) * 100);\n",
              "      percent.textContent = `${percentDone}% done`;\n",
              "\n",
              "    } while (position < fileData.byteLength);\n",
              "  }\n",
              "\n",
              "  // All done.\n",
              "  yield {\n",
              "    response: {\n",
              "      action: 'complete',\n",
              "    }\n",
              "  };\n",
              "}\n",
              "\n",
              "scope.google = scope.google || {};\n",
              "scope.google.colab = scope.google.colab || {};\n",
              "scope.google.colab._files = {\n",
              "  _uploadFiles,\n",
              "  _uploadFilesContinue,\n",
              "};\n",
              "})(self);\n",
              "</script> "
            ]
          },
          "metadata": {}
        },
        {
          "output_type": "stream",
          "name": "stdout",
          "text": [
            "Saving bank-additional-full.csv to bank-additional-full (3).csv\n"
          ]
        },
        {
          "output_type": "execute_result",
          "data": {
            "text/plain": [
              "(               age      duration      campaign         pdays      previous  \\\n",
              " count  41188.00000  41188.000000  41188.000000  41188.000000  41188.000000   \n",
              " mean      40.02406    258.285010      2.567593    962.475454      0.172963   \n",
              " std       10.42125    259.279249      2.770014    186.910907      0.494901   \n",
              " min       17.00000      0.000000      1.000000      0.000000      0.000000   \n",
              " 25%       32.00000    102.000000      1.000000    999.000000      0.000000   \n",
              " 50%       38.00000    180.000000      2.000000    999.000000      0.000000   \n",
              " 75%       47.00000    319.000000      3.000000    999.000000      0.000000   \n",
              " max       98.00000   4918.000000     56.000000    999.000000      7.000000   \n",
              " \n",
              "        emp.var.rate  cons.price.idx  cons.conf.idx     euribor3m   nr.employed  \n",
              " count  41188.000000    41188.000000   41188.000000  41188.000000  41188.000000  \n",
              " mean       0.081886       93.575664     -40.502600      3.621291   5167.035911  \n",
              " std        1.570960        0.578840       4.628198      1.734447     72.251528  \n",
              " min       -3.400000       92.201000     -50.800000      0.634000   4963.600000  \n",
              " 25%       -1.800000       93.075000     -42.700000      1.344000   5099.100000  \n",
              " 50%        1.100000       93.749000     -41.800000      4.857000   5191.000000  \n",
              " 75%        1.400000       93.994000     -36.400000      4.961000   5228.100000  \n",
              " max        1.400000       94.767000     -26.900000      5.045000   5228.100000  ,\n",
              " (41188, 21))"
            ]
          },
          "metadata": {},
          "execution_count": 14
        }
      ],
      "source": [
        "uploaded = files.upload()\n",
        "filename = list(uploaded.keys())[0]\n",
        "df = pd.read_csv(filename, delimiter=';')\n",
        "statistics = df.describe()\n",
        "dataset_shape = df.shape\n",
        "statistics, dataset_shape"
      ]
    },
    {
      "cell_type": "markdown",
      "metadata": {
        "id": "DsIS2KLCysZs"
      },
      "source": [
        "**Завдання 2** підготовка цільової змінної  \n",
        "\n",
        "1. проаналізувати атрибути вибірки, визначити цільовий атрибут `target atribute`;\n",
        "2. якщо `target atribute` є категоріальним, його необхідно перетворити в чисельний."
      ]
    },
    {
      "cell_type": "code",
      "execution_count": null,
      "metadata": {
        "id": "LKsTWBCdysZt",
        "colab": {
          "base_uri": "https://localhost:8080/"
        },
        "outputId": "05874c08-9a98-4e42-c479-16fce276f8d3"
      },
      "outputs": [
        {
          "output_type": "stream",
          "name": "stdout",
          "text": [
            "0    no\n",
            "1    no\n",
            "2    no\n",
            "3    no\n",
            "4    no\n",
            "Name: y, dtype: object\n"
          ]
        }
      ],
      "source": [
        "bank_target = df['y']\n",
        "\n",
        "print(bank_target.head())\n"
      ]
    },
    {
      "cell_type": "markdown",
      "metadata": {
        "id": "VHy_NT1aysZt"
      },
      "source": [
        "## Аналіз змінних, які характеризують клієнтів банку:"
      ]
    },
    {
      "cell_type": "markdown",
      "metadata": {
        "id": "GDSktQp_ysZt"
      },
      "source": [
        "**Завдання 3** Визначитись зі всіма атрибутами, що характреризують кліентів банку:\n",
        "- виділити їх в окрему частину;\n",
        "- первірити всі змінні (які унікальні значення містять атрибути)(дивись опис датасету)."
      ]
    },
    {
      "cell_type": "code",
      "execution_count": null,
      "metadata": {
        "id": "lku0lnRIysZt",
        "colab": {
          "base_uri": "https://localhost:8080/"
        },
        "outputId": "33de508f-4b2e-4212-f2b2-ff1c780246fd"
      },
      "outputs": [
        {
          "output_type": "stream",
          "name": "stdout",
          "text": [
            "Унікальні значення 'age' - [56 57 37 40 45 59 41 24 25 29 35 54 46 50 39 30 55 49 34 52 58 32 38 44\n",
            " 42 60 53 47 51 48 33 31 43 36 28 27 26 22 23 20 21 61 19 18 70 66 76 67\n",
            " 73 88 95 77 68 75 63 80 62 65 72 82 64 71 69 78 85 79 83 81 74 17 87 91\n",
            " 86 98 94 84 92 89]\n",
            "\n",
            "Унікальні значення 'job' - ['housemaid' 'services' 'admin.' 'blue-collar' 'technician' 'retired'\n",
            " 'management' 'unemployed' 'self-employed' 'unknown' 'entrepreneur'\n",
            " 'student']\n",
            "\n",
            "Унікальні значення 'marital' - ['married' 'single' 'divorced' 'unknown']\n",
            "\n",
            "Унікальні значення 'education' - ['basic.4y' 'high.school' 'basic.6y' 'basic.9y' 'professional.course'\n",
            " 'unknown' 'university.degree' 'illiterate']\n",
            "\n",
            "Унікальні значення 'default' - ['no' 'unknown' 'yes']\n",
            "\n",
            "Унікальні значення 'housing' - ['no' 'yes' 'unknown']\n",
            "\n",
            "Унікальні значення 'loan' - ['no' 'yes' 'unknown']\n",
            "\n",
            "Унікальні значення 'contact' - ['telephone' 'cellular']\n",
            "\n"
          ]
        }
      ],
      "source": [
        "bank_client = df[['age', 'job', 'marital', 'education', 'default', 'housing', 'loan', 'contact']]\n",
        "\n",
        "for column in bank_client.columns:\n",
        "    print(f\"Унікальні значення '{column}' - {bank_client[column].unique()}\\n\")"
      ]
    },
    {
      "cell_type": "markdown",
      "metadata": {
        "id": "zfKF4TiAysZt"
      },
      "source": [
        "**Завдання 4** Аналіз атрибуту `Age`:  \n",
        "1. Вивести максимальне та мінімальне значення;  \n",
        "2. Перевірити на наявність `NaN`;  \n",
        "3. Провести візуальний аналіз зміної `Age`:\n",
        "    - побудувати `countplot`, `boxplot`, `distplot`;\n",
        "    - перевірити розподіл по змінній `Age` на важкі хвости."
      ]
    },
    {
      "cell_type": "code",
      "execution_count": null,
      "metadata": {
        "id": "ksMwh5pLysZu",
        "colab": {
          "base_uri": "https://localhost:8080/",
          "height": 624
        },
        "outputId": "7acd2e3f-3ba6-4ca2-827b-d776a900448e"
      },
      "outputs": [
        {
          "output_type": "display_data",
          "data": {
            "text/plain": [
              "<Figure size 1800x600 with 3 Axes>"
            ],
            "image/png": "[encoded data removed]"
          },
          "metadata": {}
        },
        {
          "output_type": "execute_result",
          "data": {
            "text/plain": [
              "(17, 98, np.int64(0))"
            ]
          },
          "metadata": {},
          "execution_count": 17
        }
      ],
      "source": [
        "age_max = df['age'].max()\n",
        "age_min = df['age'].min()\n",
        "\n",
        "age_nan_count = df['age'].isna().sum()\n",
        "\n",
        "plt.figure(figsize=(18, 6))\n",
        "\n",
        "plt.subplot(1, 3, 1)\n",
        "sns.countplot(x='age', data=df)\n",
        "plt.title('Countplot for Age')\n",
        "\n",
        "plt.subplot(1, 3, 2)\n",
        "sns.boxplot(x='age', data=df)\n",
        "plt.title('Boxplot for Age')\n",
        "\n",
        "plt.subplot(1, 3, 3)\n",
        "sns.histplot(df['age'], kde=True)\n",
        "plt.title('Distribution Plot for Age')\n",
        "\n",
        "plt.tight_layout()\n",
        "plt.show()\n",
        "\n",
        "(age_min, age_max, age_nan_count)"
      ]
    },
    {
      "cell_type": "markdown",
      "metadata": {
        "id": "P_2Fdjg8ysZu"
      },
      "source": [
        "**Висновки з 1-4 завдання (детальні)**"
      ]
    },
    {
      "cell_type": "markdown",
      "metadata": {
        "id": "6MRw2gFlysZu"
      },
      "source": [
        "1.   \n",
        "2.   \n",
        "3. ..."
      ]
    },
    {
      "cell_type": "markdown",
      "metadata": {
        "id": "LHo0NoTHysZu"
      },
      "source": [
        "**Завдання 5** Перевірити атрибут `Age` на викиди:"
      ]
    },
    {
      "cell_type": "code",
      "execution_count": null,
      "metadata": {
        "id": "9iXl-Y4OysZu"
      },
      "outputs": [],
      "source": [
        "import numpy as np\n",
        "import pandas as pd\n",
        "from IPython.display import display\n",
        "\n",
        "def detect_outliers_with_interquantile_range(df: pd.DataFrame,\n",
        "                                             column: str,\n",
        "                                             low_percentile: int,\n",
        "                                             high_percentile: int) -> pd.DataFrame:\n",
        "    \"\"\"\n",
        "    Detecting outliers using interquantile range set manually\n",
        "\n",
        "    Parameters:\n",
        "    df: pd.DataFrame to detect outliers\n",
        "    column: target column (e.g., 'age')\n",
        "    low_percentile: lower bound percentile (e.g., 25 for Q1)\n",
        "    high_percentile: upper bound percentile (e.g., 75 for Q3)\n",
        "\n",
        "    Returns:\n",
        "    pd.DataFrame with detected outliers\n",
        "    \"\"\"\n",
        "    sorted_data = np.sort(df[column])\n",
        "\n",
        "    Q1 = np.percentile(sorted_data, low_percentile)\n",
        "    Q3 = np.percentile(sorted_data, high_percentile)\n",
        "    print('')\n",
        "    print(f\"Q1 {low_percentile} percentile of the given data: {Q1}\")\n",
        "    print('')\n",
        "    print(f\"Q3 {high_percentile} percentile of the given data: {Q3}\")\n",
        "    print('')\n",
        "\n",
        "    IQR = Q3 - Q1\n",
        "    print('')\n",
        "    print(f\"Interquantile range: {IQR}\")\n",
        "    print('')\n",
        "\n",
        "    low_lim = Q1 - 1.5 * IQR\n",
        "    up_lim = Q3 + 1.5 * IQR\n",
        "    print('')\n",
        "    print(f\" Lower bound: {low_lim}\")\n",
        "    print('')\n",
        "    print(f\" Upper bound: {up_lim}\")\n",
        "    print('')\n",
        "\n",
        "    outliers = df[(df[column] > up_lim) | (df[column] < low_lim)]\n",
        "    print('')\n",
        "    print(f\"Outliers in the dataset:\")\n",
        "    display(outliers)\n",
        "    print('')\n",
        "\n",
        "    return outliers"
      ]
    },
    {
      "cell_type": "code",
      "execution_count": null,
      "metadata": {
        "id": "gc_oPZJMysZv",
        "colab": {
          "base_uri": "https://localhost:8080/",
          "height": 389
        },
        "outputId": "3cfe3088-4538-41df-eec4-73c8fa47ce36"
      },
      "outputs": [
        {
          "output_type": "stream",
          "name": "stdout",
          "text": [
            "\n",
            "Q1 10 percentile of the given data: 28.0\n",
            "\n",
            "Q3 90 percentile of the given data: 55.0\n",
            "\n",
            "\n",
            "Interquantile range: 27.0\n",
            "\n",
            "\n",
            " Lower bound: -12.5\n",
            "\n",
            " Upper bound: 95.5\n",
            "\n",
            "\n",
            "Outliers in the dataset:\n"
          ]
        },
        {
          "output_type": "display_data",
          "data": {
            "text/plain": [
              "       age      job  marital education  default housing loan   contact\n",
              "38452   98  retired  married  basic.4y  unknown     yes   no  cellular\n",
              "38455   98  retired  married  basic.4y  unknown     yes   no  cellular"
            ],
            "text/html": [
              "\n",
              "  <div id=\"df-5dc4b981-276b-45a2-a686-249fe98e6a45\" class=\"colab-df-container\">\n",
              "    <div>\n",
              "<style scoped>\n",
              "    .dataframe tbody tr th:only-of-type {\n",
              "        vertical-align: middle;\n",
              "    }\n",
              "\n",
              "    .dataframe tbody tr th {\n",
              "        vertical-align: top;\n",
              "    }\n",
              "\n",
              "    .dataframe thead th {\n",
              "        text-align: right;\n",
              "    }\n",
              "</style>\n",
              "<table border=\"1\" class=\"dataframe\">\n",
              "  <thead>\n",
              "    <tr style=\"text-align: right;\">\n",
              "      <th></th>\n",
              "      <th>age</th>\n",
              "      <th>job</th>\n",
              "      <th>marital</th>\n",
              "      <th>education</th>\n",
              "      <th>default</th>\n",
              "      <th>housing</th>\n",
              "      <th>loan</th>\n",
              "      <th>contact</th>\n",
              "    </tr>\n",
              "  </thead>\n",
              "  <tbody>\n",
              "    <tr>\n",
              "      <th>38452</th>\n",
              "      <td>98</td>\n",
              "      <td>retired</td>\n",
              "      <td>married</td>\n",
              "      <td>basic.4y</td>\n",
              "      <td>unknown</td>\n",
              "      <td>yes</td>\n",
              "      <td>no</td>\n",
              "      <td>cellular</td>\n",
              "    </tr>\n",
              "    <tr>\n",
              "      <th>38455</th>\n",
              "      <td>98</td>\n",
              "      <td>retired</td>\n",
              "      <td>married</td>\n",
              "      <td>basic.4y</td>\n",
              "      <td>unknown</td>\n",
              "      <td>yes</td>\n",
              "      <td>no</td>\n",
              "      <td>cellular</td>\n",
              "    </tr>\n",
              "  </tbody>\n",
              "</table>\n",
              "</div>\n",
              "    <div class=\"colab-df-buttons\">\n",
              "\n",
              "  <div class=\"colab-df-container\">\n",
              "    <button class=\"colab-df-convert\" onclick=\"convertToInteractive('df-5dc4b981-276b-45a2-a686-249fe98e6a45')\"\n",
              "            title=\"Convert this dataframe to an interactive table.\"\n",
              "            style=\"display:none;\">\n",
              "\n",
              "  <svg xmlns=\"http://www.w3.org/2000/svg\" height=\"24px\" viewBox=\"0 -960 960 960\">\n",
              "    <path d=\"M120-120v-720h720v720H120Zm60-500h600v-160H180v160Zm220 220h160v-160H400v160Zm0 220h160v-160H400v160ZM180-400h160v-160H180v160Zm440 0h160v-160H620v160ZM180-180h160v-160H180v160Zm440 0h160v-160H620v160Z\"/>\n",
              "  </svg>\n",
              "    </button>\n",
              "\n",
              "  <style>\n",
              "    .colab-df-container {\n",
              "      display:flex;\n",
              "      gap: 12px;\n",
              "    }\n",
              "\n",
              "    .colab-df-convert {\n",
              "      background-color: #E8F0FE;\n",
              "      border: none;\n",
              "      border-radius: 50%;\n",
              "      cursor: pointer;\n",
              "      display: none;\n",
              "      fill: #1967D2;\n",
              "      height: 32px;\n",
              "      padding: 0 0 0 0;\n",
              "      width: 32px;\n",
              "    }\n",
              "\n",
              "    .colab-df-convert:hover {\n",
              "      background-color: #E2EBFA;\n",
              "      box-shadow: 0px 1px 2px rgba(60, 64, 67, 0.3), 0px 1px 3px 1px rgba(60, 64, 67, 0.15);\n",
              "      fill: #174EA6;\n",
              "    }\n",
              "\n",
              "    .colab-df-buttons div {\n",
              "      margin-bottom: 4px;\n",
              "    }\n",
              "\n",
              "    [theme=dark] .colab-df-convert {\n",
              "      background-color: #3B4455;\n",
              "      fill: #D2E3FC;\n",
              "    }\n",
              "\n",
              "    [theme=dark] .colab-df-convert:hover {\n",
              "      background-color: #434B5C;\n",
              "      box-shadow: 0px 1px 3px 1px rgba(0, 0, 0, 0.15);\n",
              "      filter: drop-shadow(0px 1px 2px rgba(0, 0, 0, 0.3));\n",
              "      fill: #FFFFFF;\n",
              "    }\n",
              "  </style>\n",
              "\n",
              "    <script>\n",
              "      const buttonEl =\n",
              "        document.querySelector('#df-5dc4b981-276b-45a2-a686-249fe98e6a45 button.colab-df-convert');\n",
              "      buttonEl.style.display =\n",
              "        google.colab.kernel.accessAllowed ? 'block' : 'none';\n",
              "\n",
              "      async function convertToInteractive(key) {\n",
              "        const element = document.querySelector('#df-5dc4b981-276b-45a2-a686-249fe98e6a45');\n",
              "        const dataTable =\n",
              "          await google.colab.kernel.invokeFunction('convertToInteractive',\n",
              "                                                    [key], {});\n",
              "        if (!dataTable) return;\n",
              "\n",
              "        const docLinkHtml = 'Like what you see? Visit the ' +\n",
              "          '<a target=\"_blank\" href=https://colab.research.google.com/notebooks/data_table.ipynb>data table notebook</a>'\n",
              "          + ' to learn more about interactive tables.';\n",
              "        element.innerHTML = '';\n",
              "        dataTable['output_type'] = 'display_data';\n",
              "        await google.colab.output.renderOutput(dataTable, element);\n",
              "        const docLink = document.createElement('div');\n",
              "        docLink.innerHTML = docLinkHtml;\n",
              "        element.appendChild(docLink);\n",
              "      }\n",
              "    </script>\n",
              "  </div>\n",
              "\n",
              "\n",
              "<div id=\"df-cc9b4d82-7920-4e95-bdf2-21cda9a7bf11\">\n",
              "  <button class=\"colab-df-quickchart\" onclick=\"quickchart('df-cc9b4d82-7920-4e95-bdf2-21cda9a7bf11')\"\n",
              "            title=\"Suggest charts\"\n",
              "            style=\"display:none;\">\n",
              "\n",
              "<svg xmlns=\"http://www.w3.org/2000/svg\" height=\"24px\"viewBox=\"0 0 24 24\"\n",
              "     width=\"24px\">\n",
              "    <g>\n",
              "        <path d=\"M19 3H5c-1.1 0-2 .9-2 2v14c0 1.1.9 2 2 2h14c1.1 0 2-.9 2-2V5c0-1.1-.9-2-2-2zM9 17H7v-7h2v7zm4 0h-2V7h2v10zm4 0h-2v-4h2v4z\"/>\n",
              "    </g>\n",
              "</svg>\n",
              "  </button>\n",
              "\n",
              "<style>\n",
              "  .colab-df-quickchart {\n",
              "      --bg-color: #E8F0FE;\n",
              "      --fill-color: #1967D2;\n",
              "      --hover-bg-color: #E2EBFA;\n",
              "      --hover-fill-color: #174EA6;\n",
              "      --disabled-fill-color: #AAA;\n",
              "      --disabled-bg-color: #DDD;\n",
              "  }\n",
              "\n",
              "  [theme=dark] .colab-df-quickchart {\n",
              "      --bg-color: #3B4455;\n",
              "      --fill-color: #D2E3FC;\n",
              "      --hover-bg-color: #434B5C;\n",
              "      --hover-fill-color: #FFFFFF;\n",
              "      --disabled-bg-color: #3B4455;\n",
              "      --disabled-fill-color: #666;\n",
              "  }\n",
              "\n",
              "  .colab-df-quickchart {\n",
              "    background-color: var(--bg-color);\n",
              "    border: none;\n",
              "    border-radius: 50%;\n",
              "    cursor: pointer;\n",
              "    display: none;\n",
              "    fill: var(--fill-color);\n",
              "    height: 32px;\n",
              "    padding: 0;\n",
              "    width: 32px;\n",
              "  }\n",
              "\n",
              "  .colab-df-quickchart:hover {\n",
              "    background-color: var(--hover-bg-color);\n",
              "    box-shadow: 0 1px 2px rgba(60, 64, 67, 0.3), 0 1px 3px 1px rgba(60, 64, 67, 0.15);\n",
              "    fill: var(--button-hover-fill-color);\n",
              "  }\n",
              "\n",
              "  .colab-df-quickchart-complete:disabled,\n",
              "  .colab-df-quickchart-complete:disabled:hover {\n",
              "    background-color: var(--disabled-bg-color);\n",
              "    fill: var(--disabled-fill-color);\n",
              "    box-shadow: none;\n",
              "  }\n",
              "\n",
              "  .colab-df-spinner {\n",
              "    border: 2px solid var(--fill-color);\n",
              "    border-color: transparent;\n",
              "    border-bottom-color: var(--fill-color);\n",
              "    animation:\n",
              "      spin 1s steps(1) infinite;\n",
              "  }\n",
              "\n",
              "  @keyframes spin {\n",
              "    0% {\n",
              "      border-color: transparent;\n",
              "      border-bottom-color: var(--fill-color);\n",
              "      border-left-color: var(--fill-color);\n",
              "    }\n",
              "    20% {\n",
              "      border-color: transparent;\n",
              "      border-left-color: var(--fill-color);\n",
              "      border-top-color: var(--fill-color);\n",
              "    }\n",
              "    30% {\n",
              "      border-color: transparent;\n",
              "      border-left-color: var(--fill-color);\n",
              "      border-top-color: var(--fill-color);\n",
              "      border-right-color: var(--fill-color);\n",
              "    }\n",
              "    40% {\n",
              "      border-color: transparent;\n",
              "      border-right-color: var(--fill-color);\n",
              "      border-top-color: var(--fill-color);\n",
              "    }\n",
              "    60% {\n",
              "      border-color: transparent;\n",
              "      border-right-color: var(--fill-color);\n",
              "    }\n",
              "    80% {\n",
              "      border-color: transparent;\n",
              "      border-right-color: var(--fill-color);\n",
              "      border-bottom-color: var(--fill-color);\n",
              "    }\n",
              "    90% {\n",
              "      border-color: transparent;\n",
              "      border-bottom-color: var(--fill-color);\n",
              "    }\n",
              "  }\n",
              "</style>\n",
              "\n",
              "  <script>\n",
              "    async function quickchart(key) {\n",
              "      const quickchartButtonEl =\n",
              "        document.querySelector('#' + key + ' button');\n",
              "      quickchartButtonEl.disabled = true;  // To prevent multiple clicks.\n",
              "      quickchartButtonEl.classList.add('colab-df-spinner');\n",
              "      try {\n",
              "        const charts = await google.colab.kernel.invokeFunction(\n",
              "            'suggestCharts', [key], {});\n",
              "      } catch (error) {\n",
              "        console.error('Error during call to suggestCharts:', error);\n",
              "      }\n",
              "      quickchartButtonEl.classList.remove('colab-df-spinner');\n",
              "      quickchartButtonEl.classList.add('colab-df-quickchart-complete');\n",
              "    }\n",
              "    (() => {\n",
              "      let quickchartButtonEl =\n",
              "        document.querySelector('#df-cc9b4d82-7920-4e95-bdf2-21cda9a7bf11 button');\n",
              "      quickchartButtonEl.style.display =\n",
              "        google.colab.kernel.accessAllowed ? 'block' : 'none';\n",
              "    })();\n",
              "  </script>\n",
              "</div>\n",
              "    </div>\n",
              "  </div>\n"
            ],
            "application/vnd.google.colaboratory.intrinsic+json": {
              "type": "dataframe",
              "summary": "{\n  \"name\": \"outliers = detect_outliers_with_interquantile_range(bank_client, 'age', 10, 90)\",\n  \"rows\": 2,\n  \"fields\": [\n    {\n      \"column\": \"age\",\n      \"properties\": {\n        \"dtype\": \"number\",\n        \"std\": 0,\n        \"min\": 98,\n        \"max\": 98,\n        \"num_unique_values\": 1,\n        \"samples\": [\n          98\n        ],\n        \"semantic_type\": \"\",\n        \"description\": \"\"\n      }\n    },\n    {\n      \"column\": \"job\",\n      \"properties\": {\n        \"dtype\": \"string\",\n        \"num_unique_values\": 1,\n        \"samples\": [\n          \"retired\"\n        ],\n        \"semantic_type\": \"\",\n        \"description\": \"\"\n      }\n    },\n    {\n      \"column\": \"marital\",\n      \"properties\": {\n        \"dtype\": \"string\",\n        \"num_unique_values\": 1,\n        \"samples\": [\n          \"married\"\n        ],\n        \"semantic_type\": \"\",\n        \"description\": \"\"\n      }\n    },\n    {\n      \"column\": \"education\",\n      \"properties\": {\n        \"dtype\": \"string\",\n        \"num_unique_values\": 1,\n        \"samples\": [\n          \"basic.4y\"\n        ],\n        \"semantic_type\": \"\",\n        \"description\": \"\"\n      }\n    },\n    {\n      \"column\": \"default\",\n      \"properties\": {\n        \"dtype\": \"string\",\n        \"num_unique_values\": 1,\n        \"samples\": [\n          \"unknown\"\n        ],\n        \"semantic_type\": \"\",\n        \"description\": \"\"\n      }\n    },\n    {\n      \"column\": \"housing\",\n      \"properties\": {\n        \"dtype\": \"string\",\n        \"num_unique_values\": 1,\n        \"samples\": [\n          \"yes\"\n        ],\n        \"semantic_type\": \"\",\n        \"description\": \"\"\n      }\n    },\n    {\n      \"column\": \"loan\",\n      \"properties\": {\n        \"dtype\": \"string\",\n        \"num_unique_values\": 1,\n        \"samples\": [\n          \"no\"\n        ],\n        \"semantic_type\": \"\",\n        \"description\": \"\"\n      }\n    },\n    {\n      \"column\": \"contact\",\n      \"properties\": {\n        \"dtype\": \"string\",\n        \"num_unique_values\": 1,\n        \"samples\": [\n          \"cellular\"\n        ],\n        \"semantic_type\": \"\",\n        \"description\": \"\"\n      }\n    }\n  ]\n}"
            }
          },
          "metadata": {}
        },
        {
          "output_type": "stream",
          "name": "stdout",
          "text": [
            "\n"
          ]
        }
      ],
      "source": [
        "outliers = detect_outliers_with_interquantile_range(bank_client, 'age', 10, 90)"
      ]
    },
    {
      "cell_type": "markdown",
      "metadata": {
        "id": "PN-ypxmiysZv"
      },
      "source": [
        "**Висновки з завдання 5 (детальні)**"
      ]
    },
    {
      "cell_type": "markdown",
      "metadata": {
        "id": "vJzhjPQ_ysZv"
      },
      "source": [
        "1.   \n",
        "2.   \n",
        "3. ..."
      ]
    },
    {
      "cell_type": "markdown",
      "metadata": {
        "id": "llohM2tDysZv"
      },
      "source": [
        "**Завдання 6** Аналіз атрибутів `job`, `marital` та `education`:  \n",
        "- Побудувати графіки розподілу даних по цим змінним."
      ]
    },
    {
      "cell_type": "code",
      "execution_count": null,
      "metadata": {
        "id": "Srz_q9wSysZw",
        "colab": {
          "base_uri": "https://localhost:8080/",
          "height": 530
        },
        "outputId": "ee7e22a9-eeb0-47d6-d42d-db20fc5cffbd"
      },
      "outputs": [
        {
          "output_type": "display_data",
          "data": {
            "text/plain": [
              "<Figure size 1800x500 with 1 Axes>"
            ],
            "image/png": "[encoded data removed]"
          },
          "metadata": {}
        }
      ],
      "source": [
        "\n",
        "plt.figure(figsize=(18, 5))\n",
        "\n",
        "plt.subplot(1, 3, 1)\n",
        "sns.countplot(x='job', data=df)\n",
        "plt.xticks(rotation=45, ha='right')\n",
        "\n",
        "plt.show()"
      ]
    },
    {
      "cell_type": "code",
      "execution_count": null,
      "metadata": {
        "id": "X8IXg3ZEysZw",
        "colab": {
          "base_uri": "https://localhost:8080/",
          "height": 505
        },
        "outputId": "13457991-0357-43c5-a7ca-310bc9ea07b5"
      },
      "outputs": [
        {
          "output_type": "display_data",
          "data": {
            "text/plain": [
              "<Figure size 1800x500 with 1 Axes>"
            ],
            "image/png": "[encoded data removed]"
          },
          "metadata": {}
        }
      ],
      "source": [
        "\n",
        "plt.figure(figsize=(18, 5))\n",
        "\n",
        "plt.subplot(1, 3, 2)\n",
        "sns.countplot(x='marital', data=df)\n",
        "plt.xticks(rotation=45, ha='right')\n",
        "\n",
        "plt.show()"
      ]
    },
    {
      "cell_type": "code",
      "execution_count": null,
      "metadata": {
        "id": "CpmtGSyAysZw",
        "colab": {
          "base_uri": "https://localhost:8080/",
          "height": 556
        },
        "outputId": "8c558513-37af-40a0-c323-6665398e1f53"
      },
      "outputs": [
        {
          "output_type": "display_data",
          "data": {
            "text/plain": [
              "<Figure size 1800x500 with 1 Axes>"
            ],
            "image/png": "[encoded data removed]"
          },
          "metadata": {}
        }
      ],
      "source": [
        "\n",
        "plt.figure(figsize=(18, 5))\n",
        "\n",
        "plt.subplot(1, 3, 3)\n",
        "sns.countplot(x='education', data=df)\n",
        "plt.xticks(rotation=45, ha='right')\n",
        "\n",
        "plt.show()"
      ]
    },
    {
      "cell_type": "markdown",
      "metadata": {
        "id": "_HoSeGyxysZw"
      },
      "source": [
        "**Висновки з завдання 6 (детальні)**"
      ]
    },
    {
      "cell_type": "markdown",
      "metadata": {
        "id": "ED3cGHeVysZw"
      },
      "source": [
        "1.   \n",
        "2.   \n",
        "3. ..."
      ]
    },
    {
      "cell_type": "markdown",
      "metadata": {
        "id": "jw3sXGn5ysZw"
      },
      "source": [
        "**Завдання 7** Аналіз атрибутів `default`, `housing` та `loan`:  \n",
        "- Побудувати графіки розподілу даних по цим змінним."
      ]
    },
    {
      "cell_type": "code",
      "execution_count": null,
      "metadata": {
        "id": "ZY9DAx6jysZx",
        "colab": {
          "base_uri": "https://localhost:8080/",
          "height": 505
        },
        "outputId": "fe5e0314-af0a-4932-8342-fb1138fcd117"
      },
      "outputs": [
        {
          "output_type": "display_data",
          "data": {
            "text/plain": [
              "<Figure size 1500x500 with 1 Axes>"
            ],
            "image/png": "[encoded data removed]"
          },
          "metadata": {}
        }
      ],
      "source": [
        "\n",
        "plt.figure(figsize=(15, 5))\n",
        "\n",
        "plt.subplot(1, 3, 1)\n",
        "sns.countplot(x='default', data=df)\n",
        "plt.xticks(rotation=45, ha='right')\n",
        "\n",
        "plt.show()"
      ]
    },
    {
      "cell_type": "code",
      "execution_count": null,
      "metadata": {
        "id": "Ak_0-1PxysZx",
        "colab": {
          "base_uri": "https://localhost:8080/",
          "height": 505
        },
        "outputId": "81deb50f-af3b-428f-f4d5-bb3f7466f8a3"
      },
      "outputs": [
        {
          "output_type": "display_data",
          "data": {
            "text/plain": [
              "<Figure size 1500x500 with 1 Axes>"
            ],
            "image/png": "[encoded data removed]"
          },
          "metadata": {}
        }
      ],
      "source": [
        "\n",
        "plt.figure(figsize=(15, 5))\n",
        "\n",
        "plt.subplot(1, 3, 2)\n",
        "sns.countplot(x='housing', data=df)\n",
        "plt.xticks(rotation=45, ha='right')\n",
        "\n",
        "plt.show()"
      ]
    },
    {
      "cell_type": "code",
      "execution_count": null,
      "metadata": {
        "id": "NDArycEQysZx",
        "colab": {
          "base_uri": "https://localhost:8080/",
          "height": 505
        },
        "outputId": "4a0db431-ec95-4e53-ea4a-4a31349945f5"
      },
      "outputs": [
        {
          "output_type": "display_data",
          "data": {
            "text/plain": [
              "<Figure size 1500x500 with 1 Axes>"
            ],
            "image/png": "[encoded data removed]"
          },
          "metadata": {}
        }
      ],
      "source": [
        "\n",
        "plt.figure(figsize=(15, 5))\n",
        "\n",
        "plt.subplot(1, 3, 3)\n",
        "sns.countplot(x='loan', data=df)\n",
        "plt.xticks(rotation=45, ha='right')\n",
        "\n",
        "plt.show()"
      ]
    },
    {
      "cell_type": "markdown",
      "metadata": {
        "id": "wYtREfcJysZx"
      },
      "source": [
        "**Завдання 8** Змінні **Jobs, Marital, Education, Default, Housing, Loan** трансформувати в неперервні змінні:"
      ]
    },
    {
      "cell_type": "code",
      "execution_count": null,
      "metadata": {
        "id": "Wsg4TFQzysZx"
      },
      "outputs": [],
      "source": [
        "def encode_categorical_columns(df: pd.DataFrame, categorical_cols: list) -> pd.DataFrame:\n",
        "    \"\"\"\n",
        "    Function for encoding categorical features using LabelEncoder\n",
        "\n",
        "    df: pd.DataFrame to encode\n",
        "    categorical_cols: specified columns to encode\n",
        "\n",
        "    returns: pd.DataFrame with encoded values\n",
        "    \"\"\"\n",
        "    for col in categorical_cols:\n",
        "        le = LabelEncoder()\n",
        "        not_null = df[col][df[col].notnull()]\n",
        "        df[col] = pd.Series(le.fit_transform(not_null), index=not_null.index)\n",
        "\n",
        "    return df"
      ]
    },
    {
      "cell_type": "code",
      "execution_count": null,
      "metadata": {
        "id": "pInQzFcxysZx",
        "outputId": "b9f9a046-edf6-43c7-c917-6c55c680ca96"
      },
      "outputs": [
        {
          "name": "stdout",
          "output_type": "stream",
          "text": [
            "   job  marital  education  default  housing  loan\n",
            "0    3        1          0        0        0     0\n",
            "1    7        1          3        1        0     0\n",
            "2    7        1          3        0        2     0\n",
            "3    0        1          1        0        0     0\n",
            "4    7        1          3        0        0     2\n"
          ]
        }
      ],
      "source": [
        "bank_client = encode_categorical_columns(bank_client, ['job', 'marital', 'education', 'default', 'housing',  'loan'])\n",
        "\n",
        "print(bank_client[['job', 'marital', 'education', 'default', 'housing', 'loan']].head())"
      ]
    },
    {
      "cell_type": "markdown",
      "metadata": {
        "id": "qY0ybijaysZy"
      },
      "source": [
        "**Завдання 9** Трансфомувати змінну **Age** (використовуючи її квартильні значення):\n",
        "\n",
        "\n"
      ]
    },
    {
      "cell_type": "code",
      "execution_count": null,
      "metadata": {
        "id": "jKCNuX1YysZy"
      },
      "outputs": [],
      "source": [
        "def encode_age(dataframe: pd.DataFrame, age_col: str) -> pd.DataFrame:\n",
        "    \"\"\"\n",
        "    Function for encoding age column using quartile-based discretization\n",
        "\n",
        "    Parameters:\n",
        "    dataframe: pd.DataFrame to encode\n",
        "    age_col: age column to encode\n",
        "\n",
        "    Returns:\n",
        "    pd.DataFrame with encoded age column\n",
        "    \"\"\"\n",
        "    Q1 = dataframe[age_col].quantile(0.25)\n",
        "    Q2 = dataframe[age_col].quantile(0.50)\n",
        "    Q3 = dataframe[age_col].quantile(0.75)\n",
        "\n",
        "    bins = [dataframe[age_col].min(), Q1, Q2, Q3, dataframe[age_col].max()]\n",
        "\n",
        "    bins = np.unique(bins)\n",
        "\n",
        "    num_bins = len(bins) - 1\n",
        "    labels = list(range(num_bins))\n",
        "\n",
        "    dataframe[age_col] = pd.cut(dataframe[age_col], bins=bins, labels=labels, include_lowest=True)\n",
        "\n",
        "    dataframe[age_col] = dataframe[age_col].astype(int)\n",
        "\n",
        "    return dataframe\n",
        "\n",
        "bank_client = encode_age(bank_client, 'age')"
      ]
    },
    {
      "cell_type": "markdown",
      "metadata": {
        "id": "9F2SI64JysZy"
      },
      "source": [
        "**Висновки з завдання 9 (детальні)** перевірити як відбулося перетворення змінних"
      ]
    },
    {
      "cell_type": "markdown",
      "metadata": {
        "id": "U32QZJAeysZy"
      },
      "source": [
        "## Вибірка містить певну кількість атрибутів, які характеризують останій зв'язок кліентів з банком"
      ]
    },
    {
      "cell_type": "markdown",
      "metadata": {
        "id": "gzxtGoEiysZy"
      },
      "source": [
        "**Завдання 10** Виділити в окремий датафрейм змінні, які характеризують зв'язок клієнтів з банком;\n",
        "- вивести цей датафрейм;\n",
        "- перевірити ці змінні на `NaN`."
      ]
    },
    {
      "cell_type": "code",
      "execution_count": null,
      "metadata": {
        "id": "p0zB5zHeysZy",
        "colab": {
          "base_uri": "https://localhost:8080/",
          "height": 510
        },
        "outputId": "3c5adf01-2583-4f52-8bf5-5768ea8d0ec1"
      },
      "outputs": [
        {
          "output_type": "stream",
          "name": "stdout",
          "text": [
            "DataFrame bank_relat:\n"
          ]
        },
        {
          "output_type": "display_data",
          "data": {
            "text/plain": [
              "       default housing loan\n",
              "0           no      no   no\n",
              "1      unknown      no   no\n",
              "2           no     yes   no\n",
              "3           no      no   no\n",
              "4           no      no  yes\n",
              "...        ...     ...  ...\n",
              "41183       no     yes   no\n",
              "41184       no      no   no\n",
              "41185       no     yes   no\n",
              "41186       no      no   no\n",
              "41187       no     yes   no\n",
              "\n",
              "[41188 rows x 3 columns]"
            ],
            "text/html": [
              "\n",
              "  <div id=\"df-659854b8-6143-4f4b-bea3-904f6adaf40f\" class=\"colab-df-container\">\n",
              "    <div>\n",
              "<style scoped>\n",
              "    .dataframe tbody tr th:only-of-type {\n",
              "        vertical-align: middle;\n",
              "    }\n",
              "\n",
              "    .dataframe tbody tr th {\n",
              "        vertical-align: top;\n",
              "    }\n",
              "\n",
              "    .dataframe thead th {\n",
              "        text-align: right;\n",
              "    }\n",
              "</style>\n",
              "<table border=\"1\" class=\"dataframe\">\n",
              "  <thead>\n",
              "    <tr style=\"text-align: right;\">\n",
              "      <th></th>\n",
              "      <th>default</th>\n",
              "      <th>housing</th>\n",
              "      <th>loan</th>\n",
              "    </tr>\n",
              "  </thead>\n",
              "  <tbody>\n",
              "    <tr>\n",
              "      <th>0</th>\n",
              "      <td>no</td>\n",
              "      <td>no</td>\n",
              "      <td>no</td>\n",
              "    </tr>\n",
              "    <tr>\n",
              "      <th>1</th>\n",
              "      <td>unknown</td>\n",
              "      <td>no</td>\n",
              "      <td>no</td>\n",
              "    </tr>\n",
              "    <tr>\n",
              "      <th>2</th>\n",
              "      <td>no</td>\n",
              "      <td>yes</td>\n",
              "      <td>no</td>\n",
              "    </tr>\n",
              "    <tr>\n",
              "      <th>3</th>\n",
              "      <td>no</td>\n",
              "      <td>no</td>\n",
              "      <td>no</td>\n",
              "    </tr>\n",
              "    <tr>\n",
              "      <th>4</th>\n",
              "      <td>no</td>\n",
              "      <td>no</td>\n",
              "      <td>yes</td>\n",
              "    </tr>\n",
              "    <tr>\n",
              "      <th>...</th>\n",
              "      <td>...</td>\n",
              "      <td>...</td>\n",
              "      <td>...</td>\n",
              "    </tr>\n",
              "    <tr>\n",
              "      <th>41183</th>\n",
              "      <td>no</td>\n",
              "      <td>yes</td>\n",
              "      <td>no</td>\n",
              "    </tr>\n",
              "    <tr>\n",
              "      <th>41184</th>\n",
              "      <td>no</td>\n",
              "      <td>no</td>\n",
              "      <td>no</td>\n",
              "    </tr>\n",
              "    <tr>\n",
              "      <th>41185</th>\n",
              "      <td>no</td>\n",
              "      <td>yes</td>\n",
              "      <td>no</td>\n",
              "    </tr>\n",
              "    <tr>\n",
              "      <th>41186</th>\n",
              "      <td>no</td>\n",
              "      <td>no</td>\n",
              "      <td>no</td>\n",
              "    </tr>\n",
              "    <tr>\n",
              "      <th>41187</th>\n",
              "      <td>no</td>\n",
              "      <td>yes</td>\n",
              "      <td>no</td>\n",
              "    </tr>\n",
              "  </tbody>\n",
              "</table>\n",
              "<p>41188 rows × 3 columns</p>\n",
              "</div>\n",
              "    <div class=\"colab-df-buttons\">\n",
              "\n",
              "  <div class=\"colab-df-container\">\n",
              "    <button class=\"colab-df-convert\" onclick=\"convertToInteractive('df-659854b8-6143-4f4b-bea3-904f6adaf40f')\"\n",
              "            title=\"Convert this dataframe to an interactive table.\"\n",
              "            style=\"display:none;\">\n",
              "\n",
              "  <svg xmlns=\"http://www.w3.org/2000/svg\" height=\"24px\" viewBox=\"0 -960 960 960\">\n",
              "    <path d=\"M120-120v-720h720v720H120Zm60-500h600v-160H180v160Zm220 220h160v-160H400v160Zm0 220h160v-160H400v160ZM180-400h160v-160H180v160Zm440 0h160v-160H620v160ZM180-180h160v-160H180v160Zm440 0h160v-160H620v160Z\"/>\n",
              "  </svg>\n",
              "    </button>\n",
              "\n",
              "  <style>\n",
              "    .colab-df-container {\n",
              "      display:flex;\n",
              "      gap: 12px;\n",
              "    }\n",
              "\n",
              "    .colab-df-convert {\n",
              "      background-color: #E8F0FE;\n",
              "      border: none;\n",
              "      border-radius: 50%;\n",
              "      cursor: pointer;\n",
              "      display: none;\n",
              "      fill: #1967D2;\n",
              "      height: 32px;\n",
              "      padding: 0 0 0 0;\n",
              "      width: 32px;\n",
              "    }\n",
              "\n",
              "    .colab-df-convert:hover {\n",
              "      background-color: #E2EBFA;\n",
              "      box-shadow: 0px 1px 2px rgba(60, 64, 67, 0.3), 0px 1px 3px 1px rgba(60, 64, 67, 0.15);\n",
              "      fill: #174EA6;\n",
              "    }\n",
              "\n",
              "    .colab-df-buttons div {\n",
              "      margin-bottom: 4px;\n",
              "    }\n",
              "\n",
              "    [theme=dark] .colab-df-convert {\n",
              "      background-color: #3B4455;\n",
              "      fill: #D2E3FC;\n",
              "    }\n",
              "\n",
              "    [theme=dark] .colab-df-convert:hover {\n",
              "      background-color: #434B5C;\n",
              "      box-shadow: 0px 1px 3px 1px rgba(0, 0, 0, 0.15);\n",
              "      filter: drop-shadow(0px 1px 2px rgba(0, 0, 0, 0.3));\n",
              "      fill: #FFFFFF;\n",
              "    }\n",
              "  </style>\n",
              "\n",
              "    <script>\n",
              "      const buttonEl =\n",
              "        document.querySelector('#df-659854b8-6143-4f4b-bea3-904f6adaf40f button.colab-df-convert');\n",
              "      buttonEl.style.display =\n",
              "        google.colab.kernel.accessAllowed ? 'block' : 'none';\n",
              "\n",
              "      async function convertToInteractive(key) {\n",
              "        const element = document.querySelector('#df-659854b8-6143-4f4b-bea3-904f6adaf40f');\n",
              "        const dataTable =\n",
              "          await google.colab.kernel.invokeFunction('convertToInteractive',\n",
              "                                                    [key], {});\n",
              "        if (!dataTable) return;\n",
              "\n",
              "        const docLinkHtml = 'Like what you see? Visit the ' +\n",
              "          '<a target=\"_blank\" href=https://colab.research.google.com/notebooks/data_table.ipynb>data table notebook</a>'\n",
              "          + ' to learn more about interactive tables.';\n",
              "        element.innerHTML = '';\n",
              "        dataTable['output_type'] = 'display_data';\n",
              "        await google.colab.output.renderOutput(dataTable, element);\n",
              "        const docLink = document.createElement('div');\n",
              "        docLink.innerHTML = docLinkHtml;\n",
              "        element.appendChild(docLink);\n",
              "      }\n",
              "    </script>\n",
              "  </div>\n",
              "\n",
              "\n",
              "<div id=\"df-25503741-f92c-4b4a-84c4-cbc05ad59e17\">\n",
              "  <button class=\"colab-df-quickchart\" onclick=\"quickchart('df-25503741-f92c-4b4a-84c4-cbc05ad59e17')\"\n",
              "            title=\"Suggest charts\"\n",
              "            style=\"display:none;\">\n",
              "\n",
              "<svg xmlns=\"http://www.w3.org/2000/svg\" height=\"24px\"viewBox=\"0 0 24 24\"\n",
              "     width=\"24px\">\n",
              "    <g>\n",
              "        <path d=\"M19 3H5c-1.1 0-2 .9-2 2v14c0 1.1.9 2 2 2h14c1.1 0 2-.9 2-2V5c0-1.1-.9-2-2-2zM9 17H7v-7h2v7zm4 0h-2V7h2v10zm4 0h-2v-4h2v4z\"/>\n",
              "    </g>\n",
              "</svg>\n",
              "  </button>\n",
              "\n",
              "<style>\n",
              "  .colab-df-quickchart {\n",
              "      --bg-color: #E8F0FE;\n",
              "      --fill-color: #1967D2;\n",
              "      --hover-bg-color: #E2EBFA;\n",
              "      --hover-fill-color: #174EA6;\n",
              "      --disabled-fill-color: #AAA;\n",
              "      --disabled-bg-color: #DDD;\n",
              "  }\n",
              "\n",
              "  [theme=dark] .colab-df-quickchart {\n",
              "      --bg-color: #3B4455;\n",
              "      --fill-color: #D2E3FC;\n",
              "      --hover-bg-color: #434B5C;\n",
              "      --hover-fill-color: #FFFFFF;\n",
              "      --disabled-bg-color: #3B4455;\n",
              "      --disabled-fill-color: #666;\n",
              "  }\n",
              "\n",
              "  .colab-df-quickchart {\n",
              "    background-color: var(--bg-color);\n",
              "    border: none;\n",
              "    border-radius: 50%;\n",
              "    cursor: pointer;\n",
              "    display: none;\n",
              "    fill: var(--fill-color);\n",
              "    height: 32px;\n",
              "    padding: 0;\n",
              "    width: 32px;\n",
              "  }\n",
              "\n",
              "  .colab-df-quickchart:hover {\n",
              "    background-color: var(--hover-bg-color);\n",
              "    box-shadow: 0 1px 2px rgba(60, 64, 67, 0.3), 0 1px 3px 1px rgba(60, 64, 67, 0.15);\n",
              "    fill: var(--button-hover-fill-color);\n",
              "  }\n",
              "\n",
              "  .colab-df-quickchart-complete:disabled,\n",
              "  .colab-df-quickchart-complete:disabled:hover {\n",
              "    background-color: var(--disabled-bg-color);\n",
              "    fill: var(--disabled-fill-color);\n",
              "    box-shadow: none;\n",
              "  }\n",
              "\n",
              "  .colab-df-spinner {\n",
              "    border: 2px solid var(--fill-color);\n",
              "    border-color: transparent;\n",
              "    border-bottom-color: var(--fill-color);\n",
              "    animation:\n",
              "      spin 1s steps(1) infinite;\n",
              "  }\n",
              "\n",
              "  @keyframes spin {\n",
              "    0% {\n",
              "      border-color: transparent;\n",
              "      border-bottom-color: var(--fill-color);\n",
              "      border-left-color: var(--fill-color);\n",
              "    }\n",
              "    20% {\n",
              "      border-color: transparent;\n",
              "      border-left-color: var(--fill-color);\n",
              "      border-top-color: var(--fill-color);\n",
              "    }\n",
              "    30% {\n",
              "      border-color: transparent;\n",
              "      border-left-color: var(--fill-color);\n",
              "      border-top-color: var(--fill-color);\n",
              "      border-right-color: var(--fill-color);\n",
              "    }\n",
              "    40% {\n",
              "      border-color: transparent;\n",
              "      border-right-color: var(--fill-color);\n",
              "      border-top-color: var(--fill-color);\n",
              "    }\n",
              "    60% {\n",
              "      border-color: transparent;\n",
              "      border-right-color: var(--fill-color);\n",
              "    }\n",
              "    80% {\n",
              "      border-color: transparent;\n",
              "      border-right-color: var(--fill-color);\n",
              "      border-bottom-color: var(--fill-color);\n",
              "    }\n",
              "    90% {\n",
              "      border-color: transparent;\n",
              "      border-bottom-color: var(--fill-color);\n",
              "    }\n",
              "  }\n",
              "</style>\n",
              "\n",
              "  <script>\n",
              "    async function quickchart(key) {\n",
              "      const quickchartButtonEl =\n",
              "        document.querySelector('#' + key + ' button');\n",
              "      quickchartButtonEl.disabled = true;  // To prevent multiple clicks.\n",
              "      quickchartButtonEl.classList.add('colab-df-spinner');\n",
              "      try {\n",
              "        const charts = await google.colab.kernel.invokeFunction(\n",
              "            'suggestCharts', [key], {});\n",
              "      } catch (error) {\n",
              "        console.error('Error during call to suggestCharts:', error);\n",
              "      }\n",
              "      quickchartButtonEl.classList.remove('colab-df-spinner');\n",
              "      quickchartButtonEl.classList.add('colab-df-quickchart-complete');\n",
              "    }\n",
              "    (() => {\n",
              "      let quickchartButtonEl =\n",
              "        document.querySelector('#df-25503741-f92c-4b4a-84c4-cbc05ad59e17 button');\n",
              "      quickchartButtonEl.style.display =\n",
              "        google.colab.kernel.accessAllowed ? 'block' : 'none';\n",
              "    })();\n",
              "  </script>\n",
              "</div>\n",
              "    </div>\n",
              "  </div>\n"
            ],
            "application/vnd.google.colaboratory.intrinsic+json": {
              "type": "dataframe",
              "variable_name": "bank_relat",
              "summary": "{\n  \"name\": \"bank_relat\",\n  \"rows\": 41188,\n  \"fields\": [\n    {\n      \"column\": \"default\",\n      \"properties\": {\n        \"dtype\": \"category\",\n        \"num_unique_values\": 3,\n        \"samples\": [\n          \"no\",\n          \"unknown\",\n          \"yes\"\n        ],\n        \"semantic_type\": \"\",\n        \"description\": \"\"\n      }\n    },\n    {\n      \"column\": \"housing\",\n      \"properties\": {\n        \"dtype\": \"category\",\n        \"num_unique_values\": 3,\n        \"samples\": [\n          \"no\",\n          \"yes\",\n          \"unknown\"\n        ],\n        \"semantic_type\": \"\",\n        \"description\": \"\"\n      }\n    },\n    {\n      \"column\": \"loan\",\n      \"properties\": {\n        \"dtype\": \"category\",\n        \"num_unique_values\": 3,\n        \"samples\": [\n          \"no\",\n          \"yes\",\n          \"unknown\"\n        ],\n        \"semantic_type\": \"\",\n        \"description\": \"\"\n      }\n    }\n  ]\n}"
            }
          },
          "metadata": {}
        },
        {
          "output_type": "stream",
          "name": "stdout",
          "text": [
            "default    0\n",
            "housing    0\n",
            "loan       0\n",
            "dtype: int64\n"
          ]
        }
      ],
      "source": [
        "bank_relat = bank_client[['default', 'housing', 'loan']]\n",
        "\n",
        "print(\"DataFrame bank_relat:\")\n",
        "display(bank_relat)\n",
        "\n",
        "nan_counts = bank_relat.isna().sum()\n",
        "print(nan_counts)"
      ]
    },
    {
      "cell_type": "markdown",
      "metadata": {
        "id": "Axa42bVcysZz"
      },
      "source": [
        "**Завдання 11** вивести унікальні значення, які містять атрибути `contact`, `month`, `day_of_week`"
      ]
    },
    {
      "cell_type": "code",
      "execution_count": null,
      "metadata": {
        "id": "YesBNZfIysZz",
        "colab": {
          "base_uri": "https://localhost:8080/"
        },
        "outputId": "3c75c0c2-7cb3-4af3-94e4-2a83c19d16eb"
      },
      "outputs": [
        {
          "output_type": "stream",
          "name": "stdout",
          "text": [
            "['telephone' 'cellular']\n",
            "['may' 'jun' 'jul' 'aug' 'oct' 'nov' 'dec' 'mar' 'apr' 'sep']\n",
            "['mon' 'tue' 'wed' 'thu' 'fri']\n"
          ]
        }
      ],
      "source": [
        "\n",
        "unique_contact = df['contact'].unique()\n",
        "unique_month = df['month'].unique()\n",
        "unique_day_of_week = df['day_of_week'].unique()\n",
        "\n",
        "print(unique_contact)\n",
        "print(unique_month)\n",
        "print(unique_day_of_week)"
      ]
    },
    {
      "cell_type": "markdown",
      "metadata": {
        "id": "6fFzX2raysZz"
      },
      "source": [
        "# Провести аналіз змінної **Duration**"
      ]
    },
    {
      "cell_type": "markdown",
      "metadata": {
        "id": "YiP7F-TAysZz"
      },
      "source": [
        "змінна ` duration` містить інформацію про тривалість останнього дзвінка, в секундах (числова). Важливе зауваження: цей атрибут сильно впливає на цільову змінну (наприклад, якщо тривалість = 0, тоді y = \"ні\"). Проте тривалість невідома до здійснення дзвінка. Крім того, після закінчення дзвінка y, очевидно, відомо. Таким чином, цей внесок слід включати лише для цілей порівняльних показників і відкидати, якщо метою є реалістична модель прогнозування."
      ]
    },
    {
      "cell_type": "markdown",
      "metadata": {
        "id": "VH7T1BCsysZz"
      },
      "source": [
        "**Завдання 12** Аналіз атрибуту `duration`:  \n",
        "\n",
        "Провести візуальний аналіз зміної `duration`:  \n",
        "\n",
        "\n",
        "*   побудувати  `boxplot` та `distplot`;\n",
        "*   перевірити розподіл по змінній `duration` на важкі хвости.\n",
        "\n"
      ]
    },
    {
      "cell_type": "code",
      "execution_count": null,
      "metadata": {
        "id": "0ijoio2zysZz",
        "colab": {
          "base_uri": "https://localhost:8080/",
          "height": 1000
        },
        "outputId": "2f0636ac-eb73-4d9a-aa4e-fe69b8edaa5a"
      },
      "outputs": [
        {
          "output_type": "display_data",
          "data": {
            "text/plain": [
              "<Figure size 1000x600 with 1 Axes>"
            ],
            "image/png": "[encoded data removed]"
          },
          "metadata": {}
        },
        {
          "output_type": "display_data",
          "data": {
            "text/plain": [
              "<Figure size 1000x600 with 1 Axes>"
            ],
            "image/png": "[encoded data removed]"
          },
          "metadata": {}
        },
        {
          "output_type": "stream",
          "name": "stdout",
          "text": [
            "217.0\n",
            "-223.5\n",
            "644.5\n",
            "2963\n",
            "    duration\n",
            "37      1666\n",
            "57       787\n",
            "61       812\n",
            "75      1575\n",
            "83      1042\n"
          ]
        }
      ],
      "source": [
        "\n",
        "sns.set(style=\"whitegrid\")\n",
        "\n",
        "plt.figure(figsize=(10, 6))\n",
        "sns.boxplot(x=df['duration'])\n",
        "plt.show()\n",
        "\n",
        "plt.figure(figsize=(10, 6))\n",
        "sns.distplot(df['duration'], kde=True, hist=True, bins=50)\n",
        "plt.show()\n",
        "\n",
        "Q1 = df['duration'].quantile(0.25)\n",
        "Q3 = df['duration'].quantile(0.75)\n",
        "IQR = Q3 - Q1\n",
        "lower_bound = Q1 - 1.5 * IQR\n",
        "upper_bound = Q3 + 1.5 * IQR\n",
        "\n",
        "print(IQR)\n",
        "print(lower_bound)\n",
        "print(upper_bound)\n",
        "\n",
        "outliers = df[(df['duration'] < lower_bound) | (df['duration'] > upper_bound)]\n",
        "print(len(outliers))\n",
        "print(outliers[['duration']].head())"
      ]
    },
    {
      "cell_type": "markdown",
      "metadata": {
        "id": "PQJ5TJgjysZ0"
      },
      "source": [
        "**Завдання 13** Закодувати змінні Contact, Month, Day of Week (використовуйте функцію `encode_categorical_columns()`)"
      ]
    },
    {
      "cell_type": "code",
      "execution_count": null,
      "metadata": {
        "id": "thp8iB4bysZ0",
        "colab": {
          "base_uri": "https://localhost:8080/"
        },
        "outputId": "aa717308-7698-4dbd-ae49-ba39057eddd9"
      },
      "outputs": [
        {
          "output_type": "stream",
          "name": "stdout",
          "text": [
            "   contact  month  day_of_week\n",
            "0        1      6            1\n",
            "1        1      6            1\n",
            "2        1      6            1\n",
            "3        1      6            1\n",
            "4        1      6            1\n"
          ]
        }
      ],
      "source": [
        "\n",
        "def encode_categorical_columns(dataframe: pd.DataFrame, columns: list) -> pd.DataFrame:\n",
        "    \"\"\"\n",
        "    Функція для кодування категоріальних змінних у числові значення.\n",
        "\n",
        "    Parameters:\n",
        "    dataframe: pd.DataFrame - DataFrame для кодування\n",
        "    columns: list - список стовпців для кодування\n",
        "\n",
        "    Returns:\n",
        "    pd.DataFrame - DataFrame із закодованими стовпцями\n",
        "    \"\"\"\n",
        "    df = dataframe.copy()\n",
        "    for col in columns:\n",
        "        le = LabelEncoder()\n",
        "        df[col] = le.fit_transform(df[col])\n",
        "    return df\n",
        "\n",
        "columns_to_encode = ['contact', 'month', 'day_of_week']\n",
        "\n",
        "df = encode_categorical_columns(df, columns_to_encode)\n",
        "\n",
        "print(df[columns_to_encode].head())"
      ]
    },
    {
      "cell_type": "markdown",
      "metadata": {
        "id": "56q7Ok-rysZ0"
      },
      "source": [
        "**Завдання 14** Трансфомувати змінну **duration**, використовуючи її квартильні значення:"
      ]
    },
    {
      "cell_type": "code",
      "execution_count": null,
      "metadata": {
        "id": "wxwc4i-aysZ0",
        "colab": {
          "base_uri": "https://localhost:8080/"
        },
        "outputId": "0e8e9c05-02ee-448c-b5d4-5002d9ac46d4"
      },
      "outputs": [
        {
          "output_type": "stream",
          "name": "stdout",
          "text": [
            "0    2\n",
            "1    1\n",
            "2    2\n",
            "3    1\n",
            "4    2\n",
            "Name: duration, dtype: int64\n",
            "duration\n",
            "0    10313\n",
            "1    10392\n",
            "2    10197\n",
            "3    10286\n",
            "Name: count, dtype: int64\n"
          ]
        }
      ],
      "source": [
        "def encode_duration(dataframe: pd.DataFrame, duration_col: str) -> pd.DataFrame:\n",
        "    \"\"\"\n",
        "    Function for encoding duration column using quartile-based discretization\n",
        "\n",
        "    Parameters:\n",
        "    dataframe: pd.DataFrame to encode\n",
        "    duration_col: duration column to encode\n",
        "\n",
        "    Returns:\n",
        "    pd.DataFrame with encoded duration column\n",
        "    \"\"\"\n",
        "    Q1 = dataframe[duration_col].quantile(0.25)\n",
        "    Q2 = dataframe[duration_col].quantile(0.50)\n",
        "    Q3 = dataframe[duration_col].quantile(0.75)\n",
        "\n",
        "    bins = [dataframe[duration_col].min(), Q1, Q2, Q3, dataframe[duration_col].max()]\n",
        "\n",
        "    bins = sorted(list(set(bins)))\n",
        "\n",
        "    num_bins = len(bins) - 1\n",
        "    labels = list(range(num_bins))\n",
        "\n",
        "    dataframe[duration_col] = pd.cut(dataframe[duration_col], bins=bins, labels=labels, include_lowest=True)\n",
        "\n",
        "    dataframe[duration_col] = dataframe[duration_col].astype(int)\n",
        "\n",
        "    return dataframe\n",
        "\n",
        "df = encode_duration(df, 'duration')\n",
        "\n",
        "print(df['duration'].head())\n",
        "print(df['duration'].value_counts().sort_index())"
      ]
    },
    {
      "cell_type": "markdown",
      "metadata": {
        "id": "09lfy5MvysZ0"
      },
      "source": [
        "## Провести аналіз атрибутів **соціального та економічного контексту**"
      ]
    },
    {
      "cell_type": "markdown",
      "metadata": {
        "id": "SnUz68opysZ1"
      },
      "source": [
        "**Завдання 15** Виділити в окремий датафрейм атрибути соціального та єкономічного контексту"
      ]
    },
    {
      "cell_type": "code",
      "execution_count": null,
      "metadata": {
        "id": "Iag7Z_6eysZ1",
        "colab": {
          "base_uri": "https://localhost:8080/"
        },
        "outputId": "1daa3422-e70c-411c-f304-76a6f9ca70b0"
      },
      "outputs": [
        {
          "output_type": "stream",
          "name": "stdout",
          "text": [
            "   emp.var.rate  cons.price.idx  cons.conf.idx  euribor3m  nr.employed\n",
            "0           1.1          93.994          -36.4      4.857       5191.0\n",
            "1           1.1          93.994          -36.4      4.857       5191.0\n",
            "2           1.1          93.994          -36.4      4.857       5191.0\n",
            "3           1.1          93.994          -36.4      4.857       5191.0\n",
            "4           1.1          93.994          -36.4      4.857       5191.0\n"
          ]
        }
      ],
      "source": [
        "bank_socec = df[['emp.var.rate', 'cons.price.idx', 'cons.conf.idx', 'euribor3m', 'nr.employed']]\n",
        "\n",
        "print(bank_socec.head())"
      ]
    },
    {
      "cell_type": "markdown",
      "metadata": {
        "id": "yPtBjoemysZ1"
      },
      "source": [
        "**Завдання 16** Виділити в окремий датафрейм всі інші атрибути атрибути - `campaign`, `pdays`,`previous`, `poutcome`"
      ]
    },
    {
      "cell_type": "code",
      "execution_count": null,
      "metadata": {
        "id": "tcTvIR9xysZ3",
        "colab": {
          "base_uri": "https://localhost:8080/"
        },
        "outputId": "83f3bf62-f063-42e5-f1f7-b182c2b3d81e"
      },
      "outputs": [
        {
          "output_type": "stream",
          "name": "stdout",
          "text": [
            "DataFrame bank_other:\n",
            "   campaign  pdays  previous     poutcome\n",
            "0         1    999         0  nonexistent\n",
            "1         1    999         0  nonexistent\n",
            "2         1    999         0  nonexistent\n",
            "3         1    999         0  nonexistent\n",
            "4         1    999         0  nonexistent\n"
          ]
        }
      ],
      "source": [
        "bank_other = df[['campaign', 'pdays', 'previous', 'poutcome']]\n",
        "\n",
        "print(\"DataFrame bank_other:\")\n",
        "print(bank_other.head())"
      ]
    },
    {
      "cell_type": "markdown",
      "metadata": {
        "id": "hf9tgwqRysZ3"
      },
      "source": [
        "**Завдання 17** Провести трансформацію атрибуту `poutcome`"
      ]
    },
    {
      "cell_type": "code",
      "execution_count": null,
      "metadata": {
        "id": "nUVUzdq1ysZ3",
        "colab": {
          "base_uri": "https://localhost:8080/"
        },
        "outputId": "c124ddac-07a9-4e9f-8838-0e597ec13723"
      },
      "outputs": [
        {
          "output_type": "stream",
          "name": "stdout",
          "text": [
            "   campaign  pdays  previous  poutcome\n",
            "0         1    999         0         1\n",
            "1         1    999         0         1\n",
            "2         1    999         0         1\n",
            "3         1    999         0         1\n",
            "4         1    999         0         1\n",
            "[1 0 2]\n"
          ]
        }
      ],
      "source": [
        "\n",
        "le = LabelEncoder()\n",
        "bank_other['poutcome'] = le.fit_transform(bank_other['poutcome'])\n",
        "\n",
        "print(bank_other.head())\n",
        "print(bank_other['poutcome'].unique())"
      ]
    },
    {
      "cell_type": "markdown",
      "metadata": {
        "id": "-E2GpdBKysZ4"
      },
      "source": [
        "## Будування моделей класифікації"
      ]
    },
    {
      "cell_type": "markdown",
      "metadata": {
        "id": "HZ6ZNGtvysZ4"
      },
      "source": [
        "**Завдання 18** З'єднати всі отримані блоки в один датафрейм і перевірити, що він містить тільки потрібні для моделювання колонки"
      ]
    },
    {
      "cell_type": "code",
      "execution_count": null,
      "metadata": {
        "id": "y6gbsEk2ysZ4",
        "colab": {
          "base_uri": "https://localhost:8080/"
        },
        "outputId": "b4b416d7-6d9f-44a6-a9c2-e8e306e5aa60"
      },
      "outputs": [
        {
          "output_type": "stream",
          "name": "stdout",
          "text": [
            "Index(['age', 'job', 'marital', 'education', 'default', 'housing', 'loan',\n",
            "       'contact', 'campaign', 'pdays', 'previous', 'poutcome', 'emp.var.rate',\n",
            "       'cons.price.idx', 'cons.conf.idx', 'euribor3m', 'nr.employed',\n",
            "       'contact', 'month', 'day_of_week', 'duration', 'y'],\n",
            "      dtype='object')\n",
            "   age        job  marital    education  default housing loan    contact  \\\n",
            "0   56  housemaid  married     basic.4y       no      no   no  telephone   \n",
            "1   57   services  married  high.school  unknown      no   no  telephone   \n",
            "2   37   services  married  high.school       no     yes   no  telephone   \n",
            "3   40     admin.  married     basic.6y       no      no   no  telephone   \n",
            "4   56   services  married  high.school       no      no  yes  telephone   \n",
            "\n",
            "   campaign  pdays  ...  emp.var.rate  cons.price.idx  cons.conf.idx  \\\n",
            "0         1    999  ...           1.1          93.994          -36.4   \n",
            "1         1    999  ...           1.1          93.994          -36.4   \n",
            "2         1    999  ...           1.1          93.994          -36.4   \n",
            "3         1    999  ...           1.1          93.994          -36.4   \n",
            "4         1    999  ...           1.1          93.994          -36.4   \n",
            "\n",
            "   euribor3m  nr.employed  contact  month  day_of_week  duration  y  \n",
            "0      4.857       5191.0        1      6            1         2  0  \n",
            "1      4.857       5191.0        1      6            1         1  0  \n",
            "2      4.857       5191.0        1      6            1         2  0  \n",
            "3      4.857       5191.0        1      6            1         1  0  \n",
            "4      4.857       5191.0        1      6            1         2  0  \n",
            "\n",
            "[5 rows x 22 columns]\n",
            "age                 int64\n",
            "job                object\n",
            "marital            object\n",
            "education          object\n",
            "default            object\n",
            "housing            object\n",
            "loan               object\n",
            "contact            object\n",
            "campaign            int64\n",
            "pdays               int64\n",
            "previous            int64\n",
            "poutcome            int64\n",
            "emp.var.rate      float64\n",
            "cons.price.idx    float64\n",
            "cons.conf.idx     float64\n",
            "euribor3m         float64\n",
            "nr.employed       float64\n",
            "contact             int64\n",
            "month               int64\n",
            "day_of_week         int64\n",
            "duration            int64\n",
            "y                   int64\n",
            "dtype: object\n",
            "age               0\n",
            "job               0\n",
            "marital           0\n",
            "education         0\n",
            "default           0\n",
            "housing           0\n",
            "loan              0\n",
            "contact           0\n",
            "campaign          0\n",
            "pdays             0\n",
            "previous          0\n",
            "poutcome          0\n",
            "emp.var.rate      0\n",
            "cons.price.idx    0\n",
            "cons.conf.idx     0\n",
            "euribor3m         0\n",
            "nr.employed       0\n",
            "contact           0\n",
            "month             0\n",
            "day_of_week       0\n",
            "duration          0\n",
            "y                 0\n",
            "dtype: int64\n"
          ]
        }
      ],
      "source": [
        "bank_final = pd.concat([bank_client, bank_other, bank_socec], axis=1)\n",
        "\n",
        "columns_to_add = ['contact', 'month', 'day_of_week', 'duration']\n",
        "bank_final = pd.concat([bank_final, df[columns_to_add]], axis=1)\n",
        "\n",
        "bank_final['y'] = df['y']\n",
        "le = LabelEncoder()\n",
        "bank_final['y'] = le.fit_transform(bank_final['y'])\n",
        "\n",
        "print(bank_final.columns)\n",
        "\n",
        "print(bank_final.head())\n",
        "\n",
        "print(bank_final.dtypes)\n",
        "\n",
        "print(bank_final.isna().sum())"
      ]
    },
    {
      "cell_type": "markdown",
      "metadata": {
        "id": "_AwD8ZiBysZ4"
      },
      "source": [
        "**Завдання 19** Провести ділення вибірки"
      ]
    },
    {
      "cell_type": "code",
      "execution_count": null,
      "metadata": {
        "id": "RZhPJcZ4ysZ5"
      },
      "outputs": [],
      "source": [
        "def prepare_data_for_training(X: pd.DataFrame,\n",
        "                              target: pd.Series,\n",
        "                              test_size: float,\n",
        "                              n_splits: int,\n",
        "                              random_state: int):\n",
        "    \"\"\"\n",
        "    Function that prepares data for training. Splits the data into train and test datasets and get k-folds for cross-validation\n",
        "\n",
        "    X: pd.DataFrame with features\n",
        "    target: target pd.Series\n",
        "    test_size: the size of test datasets\n",
        "    n_splits: number of cross-validation splits\n",
        "    random_state: random state to reproduce the same split\n",
        "\n",
        "    returns: X_train, X_test, y_train, y_test, k_fold\n",
        "    \"\"\"\n",
        "\n",
        "    X_train, X_test, y_train, y_test = train_test_split(X, target, test_size=test_size, random_state=random_state, shuffle=True)\n",
        "    k_fold = KFold(n_splits=n_splits, shuffle=True, random_state=random_state)\n",
        "\n",
        "    return X_train, X_test, y_train, y_test, k_fold"
      ]
    },
    {
      "cell_type": "code",
      "execution_count": null,
      "metadata": {
        "id": "yMLDfCvtYT4w"
      },
      "outputs": [],
      "source": [
        "X_train, X_test, y_train, y_test, k_fold = prepare_data_for_training(bank_final, bank_target, 0.2, 10, 101)"
      ]
    },
    {
      "cell_type": "code",
      "execution_count": null,
      "metadata": {
        "id": "Zx4lCwm3ysZ6"
      },
      "outputs": [],
      "source": [
        "def scale_the_data(X_train: pd.DataFrame,\n",
        "                   X_test: pd.DataFrame):\n",
        "\n",
        "  sc_X = StandardScaler()\n",
        "  X_train = sc_X.fit_transform(X_train)\n",
        "  X_test = sc_X.transform(X_test)\n",
        "\n",
        "  return X_train, X_test"
      ]
    },
    {
      "cell_type": "code",
      "execution_count": null,
      "metadata": {
        "id": "MiX_w4XZYT4w"
      },
      "outputs": [],
      "source": [
        "X_train, X_test = [\n",
        "    StandardScaler().fit_transform(df)\n",
        "    for df in pd.get_dummies(X_train).align(pd.get_dummies(X_test), join='left', axis=1, fill_value=0)\n",
        "]"
      ]
    },
    {
      "cell_type": "markdown",
      "metadata": {
        "id": "KlD_3yimYT4w"
      },
      "source": [
        "## Логістична Регресія"
      ]
    },
    {
      "cell_type": "code",
      "execution_count": null,
      "metadata": {
        "id": "TZBcy1C3ysZ6",
        "colab": {
          "base_uri": "https://localhost:8080/"
        },
        "outputId": "dd6190da-a643-4ba8-b9aa-b7f924ec2427"
      },
      "outputs": [
        {
          "output_type": "stream",
          "name": "stdout",
          "text": [
            "[[7279    0]\n",
            " [   0  959]]\n",
            "100.0\n"
          ]
        }
      ],
      "source": [
        "logmodel = LogisticRegression()\n",
        "logmodel.fit(X_train, y_train)\n",
        "logpred = logmodel.predict(X_test)\n",
        "\n",
        "\n",
        "print(confusion_matrix(y_test, logpred))\n",
        "print(round(accuracy_score(y_test, logpred),2)*100)\n",
        "LOGCV = (cross_val_score(logmodel, X_test, y_test, cv=k_fold, n_jobs=1, scoring = 'accuracy').mean())"
      ]
    },
    {
      "cell_type": "markdown",
      "metadata": {
        "id": "yzeDWmEKYT4w"
      },
      "source": [
        "## k-NN"
      ]
    },
    {
      "cell_type": "code",
      "execution_count": null,
      "metadata": {
        "id": "NHxB-_ZUysZ6"
      },
      "outputs": [],
      "source": [
        "neighbors = np.arange(0, 25)\n",
        "\n",
        "cv_scores = []\n",
        "\n",
        "for k in neighbors:\n",
        "    if k == 0:\n",
        "        cv_scores.append(0)\n",
        "        continue\n",
        "    k_value = KNeighborsClassifier(n_neighbors=k, weights='uniform', p=2, metric='euclidean')\n",
        "    scores = cross_val_score(k_value, X_train, y_train, cv=k_fold, scoring='accuracy')\n",
        "    cv_scores.append(scores.mean())\n",
        "\n",
        "optimal_k = neighbors[np.argmax(cv_scores)]\n",
        "\n",
        "plt.plot(neighbors, cv_scores, marker='o')\n",
        "plt.title(f'The optimal number of neighbors is {optimal_k} with {max(cv_scores):.3f} (optimal_k, cv_scores[optimal_k])')\n",
        "plt.xlabel('Number of neighbors K')\n",
        "plt.ylabel('Train Accuracy')\n",
        "plt.grid(True)\n",
        "plt.show()\n",
        "\n",
        "print(f\"Оптимальне значення k: {optimal_k}\")\n",
        "print(f\"Середня точність при оптимальному k: {cv_scores[optimal_k]:.3f}\")"
      ]
    },
    {
      "cell_type": "code",
      "execution_count": null,
      "metadata": {
        "id": "483uXHTnysZ6"
      },
      "outputs": [],
      "source": [
        "knn = KNeighborsClassifier(n_neighbors=optimal_k, weights='uniform', p=2, metric='euclidean')\n",
        "knn.fit(X_train, y_train)\n",
        "knnpred = knn.predict(X_test)\n",
        "\n",
        "print(confusion_matrix(y_test, knnpred))\n",
        "print(round(accuracy_score(y_test, knnpred),2)*100)\n",
        "KNNCV = (cross_val_score(knn, X_test, y_test, cv=k_fold, n_jobs=1, scoring = 'accuracy').mean())"
      ]
    },
    {
      "cell_type": "markdown",
      "metadata": {
        "id": "3339Pa3DYT4x"
      },
      "source": [
        "## Логістична Регресія"
      ]
    },
    {
      "cell_type": "code",
      "execution_count": null,
      "metadata": {
        "id": "bIir_TuRysZ7"
      },
      "outputs": [],
      "source": [
        "models = pd.DataFrame({\n",
        "                'Models': ['Logistic Regression'],\n",
        "                'Score': [90]\n",
        "})\n",
        "models = models.sort_values(by='Score', ascending=False)\n",
        "print(models)"
      ]
    },
    {
      "cell_type": "markdown",
      "metadata": {
        "id": "mh_Vd_vOysZ7"
      },
      "source": [
        "**Висновки по моделям (детальні)**"
      ]
    },
    {
      "cell_type": "markdown",
      "metadata": {
        "id": "ZK2CADn6ysZ7"
      },
      "source": [
        "1.   \n",
        "2.   \n",
        "3. ..."
      ]
    }
  ],
  "metadata": {
    "colab": {
      "provenance": []
    },
    "kernelspec": {
      "display_name": "Python 3",
      "language": "python",
      "name": "python3"
    },
    "language_info": {
      "codemirror_mode": {
        "name": "ipython",
        "version": 3
      },
      "file_extension": ".py",
      "mimetype": "text/x-python",
      "name": "python",
      "nbconvert_exporter": "python",
      "pygments_lexer": "ipython3",
      "version": "3.8.2"
    }
  },
  "nbformat": 4,
  "nbformat_minor": 0
}